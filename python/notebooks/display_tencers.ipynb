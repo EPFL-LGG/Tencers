{
 "cells": [
  {
   "cell_type": "code",
   "execution_count": null,
   "id": "fe667107-e575-45d6-b42b-eaf6d7b13029",
   "metadata": {},
   "outputs": [],
   "source": [
    "import sys; sys.path.append(\"..\")\n",
    "import IPython\n",
    "if (ipy := IPython.get_ipython()) is not None:\n",
    "    ipy.run_line_magic(\"load_ext\", \"autoreload\")\n",
    "    ipy.run_line_magic(\"autoreload\", \"2\")\n",
    "\n",
    "from tencers import *\n",
    "\n",
    "from py_newton_optimizer import NewtonOptimizerOptions\n",
    "\n",
    "from Tencers.viewers import HybridViewer\n",
    "from Tencers.springs import *\n",
    "from Tencers.state_saver import *\n",
    "from Tencers.rods_IO import *\n",
    "from Tencers.init import *"
   ]
  },
  {
   "cell_type": "markdown",
   "id": "be7f5668-8179-449d-8d63-b4c8021486c5",
   "metadata": {},
   "source": [
    "# Load from json file"
   ]
  },
  {
   "cell_type": "code",
   "execution_count": null,
   "id": "a715901d-aa3c-431e-93a5-d4a5c4ba4b31",
   "metadata": {},
   "outputs": [],
   "source": [
    "# Files containing tencers used in the paper are located in the \"paper_data/\" folder\n",
    "filename = \"paper_data/figure_15/owl_72_springs.json\"\n",
    "tencer = load_from_json(filename)"
   ]
  },
  {
   "cell_type": "code",
   "execution_count": null,
   "id": "606e8188-a090-44d3-854f-219cda44834f",
   "metadata": {
    "collapsed": true,
    "jupyter": {
     "outputs_hidden": true
    },
    "tags": []
   },
   "outputs": [],
   "source": [
    "# Compute equilibrium : should already be at equilibrium\n",
    "opt = NewtonOptimizerOptions()\n",
    "opt.useNegativeCurvatureDirection = True\n",
    "opt.niter = 500\n",
    "opt.hessianScaledBeta = False\n",
    "opt.gradTol = 1e-9\n",
    "fixed_vars = []\n",
    "\n",
    "# For helix / treble key\n",
    "# num_fixed_vars = tencer.getOpenRods()[0].numDoF()\n",
    "# fixed_vars = np.arange(num_fixed_vars)\n",
    "\n",
    "c = computeEquilibrium(tencer,fixedVars=fixed_vars, opts=opt, hessianShift=1e-8)"
   ]
  },
  {
   "cell_type": "markdown",
   "id": "6ca6a116-1ba2-4dff-842a-019abd5b10ae",
   "metadata": {},
   "source": [
    "# Display tencer"
   ]
  },
  {
   "cell_type": "code",
   "execution_count": null,
   "id": "43b35ef5-f30b-4efa-9924-a49bdb8ef23c",
   "metadata": {
    "collapsed": true,
    "jupyter": {
     "outputs_hidden": true
    },
    "tags": []
   },
   "outputs": [],
   "source": [
    "target_rod = tencer.getTargetRods()[0]\n",
    "viewer = HybridViewer([tencer],wireframe=True)\n",
    "# subviewer = Viewer(target_rod,superView=viewer)\n",
    "viewer.show()"
   ]
  }
 ],
 "metadata": {
  "kernelspec": {
   "display_name": "Python 3",
   "language": "python",
   "name": "python3"
  },
  "language_info": {
   "codemirror_mode": {
    "name": "ipython",
    "version": 3
   },
   "file_extension": ".py",
   "mimetype": "text/x-python",
   "name": "python",
   "nbconvert_exporter": "python",
   "pygments_lexer": "ipython3",
   "version": "3.9.18"
  }
 },
 "nbformat": 4,
 "nbformat_minor": 5
}
