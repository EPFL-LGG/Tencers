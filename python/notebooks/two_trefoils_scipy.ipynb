{
 "cells": [
  {
   "cell_type": "code",
   "execution_count": null,
   "id": "8ddc54ce-ec77-4b93-9c67-33799735c636",
   "metadata": {},
   "outputs": [],
   "source": [
    "import sys; sys.path.append(\"..\")\n",
    "import IPython\n",
    "if (ipy:= IPython.get_ipython()) is not None:\n",
    "    ipy.run_line_magic(\"load_ext\", \"autoreload\")\n",
    "    ipy.run_line_magic(\"autoreload\", \"2\")\n",
    "import numpy as np\n",
    "from scipy.spatial.transform import Rotation as R\n",
    "import time, os\n",
    "from scipy.optimize import minimize, Bounds\n",
    "\n",
    "import ElasticRods\n",
    "import elastic_rods\n",
    "from elastic_rods import PeriodicRod, RodMaterial\n",
    "from linkage_vis import LinkageViewer as Viewer\n",
    "\n",
    "from py_newton_optimizer import NewtonOptimizerOptions\n",
    "import compute_vibrational_modes\n",
    "from sparse_matrices import SuiteSparseMatrix, TripletMatrix\n",
    "\n",
    "from tencers import *\n",
    "\n",
    "from Tencers.viewers import HybridViewer\n",
    "from Tencers.springs import *\n",
    "from Tencers.state_saver import save_state, load_state\n",
    "from Tencers.rods_IO import *\n",
    "from Tencers.init import *"
   ]
  },
  {
   "cell_type": "markdown",
   "id": "6e0f33f1",
   "metadata": {},
   "source": [
    "This notebook runs an inverse design optimization algorithm to find the cables that allow to approximate two interleaved trefoil tencers."
   ]
  },
  {
   "cell_type": "markdown",
   "id": "49590237-fbca-4b73-a99c-ac755474a352",
   "metadata": {
    "tags": []
   },
   "source": [
    "# Define target rods"
   ]
  },
  {
   "cell_type": "code",
   "execution_count": null,
   "id": "89cdee37-9899-463d-ae18-a5de4e25f494",
   "metadata": {},
   "outputs": [],
   "source": [
    "# Create first target rod: trefoil tencer (using torus tencer parametrizarion)\n",
    "\n",
    "n_divisions = 103\n",
    "\n",
    "p = 2\n",
    "q = 3\n",
    "\n",
    "t = np.linspace(0,2*np.pi,n_divisions,endpoint=True)\n",
    "t = np.concatenate([t, [t[1]]])  # last and first edge overlap\n",
    "\n",
    "r = np.cos(q*t) + 2.5\n",
    "\n",
    "x = r * np.cos(p*t) * 10.8\n",
    "z = r * np.sin(p*t) * 10.8\n",
    "y = -np.sin(q*t) * 10.8\n",
    "\n",
    "\n",
    "rod_points = np.column_stack([x, y, z])\n",
    "\n",
    "rod = PeriodicRod(rod_points, zeroRestCurvature=True)\n",
    "target_rod = PeriodicRod(rod_points, zeroRestCurvature=True)\n",
    "rod_youngs_modulus = 13300\n",
    "material = RodMaterial('ellipse', rod_youngs_modulus, 0.5, [0.1, 0.1])  \n",
    "rod.setMaterial(material)\n",
    "target_rod.setMaterial(material)\n",
    "minimize_twist(rod)\n",
    "minimize_twist(target_rod)"
   ]
  },
  {
   "cell_type": "code",
   "execution_count": null,
   "id": "350b9c87-69c6-4498-9121-21f4aa999dff",
   "metadata": {},
   "outputs": [],
   "source": [
    "# Create second target rod: rotated trefoil\n",
    "rod_points_rotated = R.from_euler('z', np.pi).apply(rod_points)\n",
    "rod2 = PeriodicRod(rod_points_rotated, zeroRestCurvature=True)\n",
    "rod2.setMaterial(material)\n",
    "minimize_twist(rod2)\n",
    "\n",
    "target_rod2 = PeriodicRod(rod_points_rotated, zeroRestCurvature=True)\n",
    "target_rod2.setMaterial(material)\n",
    "minimize_twist(target_rod2)"
   ]
  },
  {
   "cell_type": "code",
   "execution_count": null,
   "id": "236a43d3-3a92-4909-af9c-028d5bebc5fb",
   "metadata": {},
   "outputs": [],
   "source": [
    "print(\"Total number of vertices: \", rod.numVertices() * 2)\n",
    "print(\"Cumulated rod length: \", rod.restLength() * 2, \"cm\")\n",
    "print(\"Rod thickness: \", rod.rod.material(0).crossSectionHeight, \"cm\")\n",
    "print(\"Rod Young modulus: \", rod.rod.material(0).youngModulus, \"MPa\")"
   ]
  },
  {
   "cell_type": "code",
   "execution_count": null,
   "id": "338d6ff3-43ce-4ee4-ba60-30638ed92774",
   "metadata": {},
   "outputs": [],
   "source": [
    "open_rods = []\n",
    "closed_rods = [rod, rod2]\n",
    "rods = [rod, rod2]\n",
    "target_rods = [rod.rod, rod2.rod]"
   ]
  },
  {
   "cell_type": "code",
   "execution_count": null,
   "id": "0590dcfe-44ea-4156-956a-6a8d84a40c8b",
   "metadata": {},
   "outputs": [],
   "source": [
    "# Visualize target rods\n",
    "viewer_targets = HybridViewer([rod,rod2],wireframe=True)\n",
    "viewer_targets.show()"
   ]
  },
  {
   "cell_type": "markdown",
   "id": "3602e7a1-e012-4506-9d91-d4480dfb97b5",
   "metadata": {
    "tags": []
   },
   "source": [
    "# Cable initialization: remove compressed springs"
   ]
  },
  {
   "cell_type": "code",
   "execution_count": null,
   "id": "6038a976-5b9a-43ae-b568-d99b49a134e8",
   "metadata": {},
   "outputs": [],
   "source": [
    "# Initialize springs\n",
    "springs = []\n",
    "attachment_vertices = []\n",
    "init_stiffness = compute_initial_stiffness_pr(rod)/ 2\n",
    "print(\"Initial spring stiffness: \", init_stiffness)\n",
    "\n",
    "# Inter-rod springs only\n",
    "for i in range(rod.numVertices()):\n",
    "    for j in range(rod.numVertices()):\n",
    "        attachment_vertices.append(SpringAttachmentVertices(0,i,1,j))\n",
    "        coordA = rod.deformedPoints()[i]\n",
    "        coordB = rod2.deformedPoints()[j]\n",
    "        dist = np.linalg.norm(coordB-coordA)\n",
    "        springs.append(Spring(coordA,coordB,init_stiffness,dist))\n",
    "        if dist < 1e-6: # Make sure data is not corrupted and that no 2 points are at distance 0\n",
    "            raise Exception(\"Error 2: intra-rod spring of length 0\")\n",
    "\n",
    "\n",
    "tencer = Tencer([],rods,springs,attachment_vertices, target_rods)"
   ]
  },
  {
   "cell_type": "code",
   "execution_count": null,
   "id": "3dd98621-83c8-4551-bf31-2a70a28cb738",
   "metadata": {},
   "outputs": [],
   "source": [
    "# Optimizer options (equilibrium)\n",
    "opt = NewtonOptimizerOptions()\n",
    "opt.useNegativeCurvatureDirection = True\n",
    "opt.niter = 1000\n",
    "opt.verbose = 0\n",
    "opt.hessianScaledBeta = False\n",
    "fixed_vars = [rod.thetaOffset(),tencer.getDefoVarsIndexForRod(1) + rod2.thetaOffset()]"
   ]
  },
  {
   "cell_type": "code",
   "execution_count": null,
   "id": "f621ba57-e864-41d4-8848-5ec41f89170a",
   "metadata": {
    "tags": []
   },
   "outputs": [],
   "source": [
    "# Initialization: remove all compressed springs\n",
    "t_init1 = time.time()\n",
    "tencer = remove_compressed_springs(tencer,fixed_vars,opt)\n",
    "t_init2 = time.time()\n",
    "print(\"total time: \", t_init2 - t_init1)"
   ]
  },
  {
   "cell_type": "code",
   "execution_count": null,
   "id": "1170bb54-150a-42ed-854f-d6fc5a1fb086",
   "metadata": {},
   "outputs": [],
   "source": [
    "# Rigid registration of the target for visualization purposes\n",
    "aligned_rods = target_registration(tencer,[rod,rod2])\n",
    "\n",
    "# Visualization\n",
    "\n",
    "print(\"Number of springs: \",tencer.numRestVars())\n",
    "viewer_init = HybridViewer([tencer],wireframe=True)\n",
    "v_init1 = Viewer(aligned_rods[0], superView=viewer_init)\n",
    "v_init2 = Viewer(aligned_rods[1], superView=viewer_init)\n",
    "viewer_init.show()"
   ]
  },
  {
   "cell_type": "code",
   "execution_count": null,
   "id": "6d275296-0234-4437-977c-238b419e99df",
   "metadata": {},
   "outputs": [],
   "source": [
    "# Save state for potential future use\n",
    "# save_state(tencer,\"data/two_trefoils_init.pkl\")"
   ]
  },
  {
   "cell_type": "markdown",
   "id": "d896d3eb-bc44-4068-9e00-07a898968e40",
   "metadata": {
    "tags": []
   },
   "source": [
    "# Greedy Decimation: remove springs with lowest force"
   ]
  },
  {
   "cell_type": "code",
   "execution_count": null,
   "id": "fd159025-a88e-4f7f-87f7-df5deaa2b5f7",
   "metadata": {},
   "outputs": [],
   "source": [
    "# Load state if needed\n",
    "# tencer = load_state(\"data/two_trefoils_init.pkl\")"
   ]
  },
  {
   "cell_type": "code",
   "execution_count": null,
   "id": "52b2d02d-df74-4fc2-a228-f2d06bebce3e",
   "metadata": {},
   "outputs": [],
   "source": [
    "# Rigid registration: align target with current tencer\n",
    "aligned_rods = target_registration(tencer,aligned_rods)"
   ]
  },
  {
   "cell_type": "code",
   "execution_count": null,
   "id": "96ae065a-b53f-4c04-ac09-b44568b26161",
   "metadata": {},
   "outputs": [],
   "source": [
    "# Optimizer options\n",
    "opt = NewtonOptimizerOptions()\n",
    "opt.useNegativeCurvatureDirection = True\n",
    "opt.niter = 1000\n",
    "opt.gradTol = compute_grad_tol(tencer)\n",
    "opt.verbose = 0\n",
    "opt.hessianScaledBeta = False\n",
    "fixed_vars = [rod.thetaOffset(),tencer.getDefoVarsIndexForRod(1) + rod2.thetaOffset()]"
   ]
  },
  {
   "cell_type": "code",
   "execution_count": null,
   "id": "8f9370a0-5370-404f-a3e4-dd093e9f1b9e",
   "metadata": {
    "tags": []
   },
   "outputs": [],
   "source": [
    "t_greedy1 = time.time()\n",
    "\n",
    "# Set disance threshold\n",
    "distance_threshold = 5e-6\n",
    "\n",
    "# Greedy decimation step\n",
    "tencer,aligned_rods = greedy_decimation_step(tencer,aligned_rods, target_registration, opt, fixed_vars,distance_threshold=distance_threshold)\n",
    "\n",
    "t_greedy_2 = time.time()"
   ]
  },
  {
   "cell_type": "code",
   "execution_count": null,
   "id": "8da7be54-c83c-41f4-ba3a-94cd05fec931",
   "metadata": {},
   "outputs": [],
   "source": [
    "distance = distance_to_target(tencer,aligned_rods)\n",
    "print(\"Distance: \", distance)\n",
    "print(\"Number of springs: \", tencer.numRestVars())\n",
    "print(\"Greedy decimation running time: \", t_greedy_2 - t_greedy1)"
   ]
  },
  {
   "cell_type": "code",
   "execution_count": null,
   "id": "2c6f2c0d-a0db-4ae8-abe5-9d268fb238d5",
   "metadata": {},
   "outputs": [],
   "source": [
    "# Visualization\n",
    "viewer_greedy = HybridViewer([tencer],wireframe=True)\n",
    "v_greedy1 = Viewer(aligned_rods[0], superView=viewer_greedy)\n",
    "v_greedy2 = Viewer(aligned_rods[1], superView=viewer_greedy)\n",
    "viewer_greedy.show()"
   ]
  },
  {
   "cell_type": "code",
   "execution_count": null,
   "id": "47b8e727-b227-45ed-81cb-f9b7a49aa407",
   "metadata": {},
   "outputs": [],
   "source": [
    "# Save state for potential future use\n",
    "# save_state(tencer, \"data/two_trefoils_greedy.pkl\")"
   ]
  },
  {
   "cell_type": "markdown",
   "id": "9e83dd67-0624-49e6-9956-66b66d12cc47",
   "metadata": {
    "tags": []
   },
   "source": [
    "# Define symmetries (for optimization)"
   ]
  },
  {
   "cell_type": "code",
   "execution_count": null,
   "id": "46bc4129-60e2-45c2-992a-0ea9f1f5e7b4",
   "metadata": {},
   "outputs": [],
   "source": [
    "# Load state if needed\n",
    "# tencer = load_state(\"data/two_trefoils_greedy.pkl\")"
   ]
  },
  {
   "cell_type": "code",
   "execution_count": null,
   "id": "16aa7b32-1037-4235-9b4a-74d513e3bac6",
   "metadata": {},
   "outputs": [],
   "source": [
    "# Find symmetric springs for a hypotrochoic trefoil with a 3-fold symmetry\n",
    "\n",
    "def add_symmetric_springs(attachment_vertices, springs, num_vertices):\n",
    "    \n",
    "    symmetry_type = 3\n",
    "    k = num_vertices / symmetry_type\n",
    "    \n",
    "    num_springs = len(attachment_vertices)\n",
    "    spring_used = [False] * num_springs\n",
    "    new_attachment_vertices = [] \n",
    "    new_springs = [] \n",
    "    \n",
    "    for i in range(num_springs):\n",
    "        if not spring_used[i]:\n",
    "            \n",
    "            # Get spring anchor points\n",
    "            vA = attachment_vertices[i].vertexA\n",
    "            vB = attachment_vertices[i].vertexB\n",
    "            \n",
    "            \n",
    "            # Add this spring to the list\n",
    "            new_attachment_vertices.append([0,vA,1,vB])\n",
    "            stiffness = springs[i].stiffness \n",
    "            rest_length = springs[i].get_rest_length()\n",
    "            new_springs.append(Spring(np.zeros(3),np.ones(3),stiffness,rest_length))\n",
    "            \n",
    "            # Get symmetric springs\n",
    "            for m in range(symmetry_type-1):\n",
    "                vS0 = int((vA + (m+1)*k)) % num_vertices\n",
    "                vS1 = int((vB - (m+1)*k)) % num_vertices  \n",
    "            \n",
    "                # Add symmetric spring to the list\n",
    "                new_attachment_vertices.append([0,vS0,1,vS1])\n",
    "                new_springs.append(Spring(np.zeros(3),np.ones(3),stiffness,rest_length))\n",
    "\n",
    "                # If the symmetric spring is in the list, mark it as used\n",
    "                for j in range(i+1, num_springs):\n",
    "                    vA_j = attachment_vertices[j].vertexA\n",
    "                    vB_j = attachment_vertices[j].vertexB\n",
    "                    if vA_j == vS0 and vB_j == vS1:\n",
    "                        spring_used[j] = True\n",
    "                    \n",
    "                        \n",
    "    symmetries = np.arange(len(new_springs)).reshape(-1,symmetry_type)\n",
    "    a_v = []\n",
    "    for x in new_attachment_vertices:\n",
    "        a_v.append(SpringAttachmentVertices(x[0],x[1],x[2],x[3]))\n",
    "        \n",
    "    return new_springs,a_v,symmetries"
   ]
  },
  {
   "cell_type": "code",
   "execution_count": null,
   "id": "2a5fa6e1-003d-4a44-993a-8995dde0a68b",
   "metadata": {
    "tags": []
   },
   "outputs": [],
   "source": [
    "# Add symmetric springs\n",
    "new_s,new_a,symmetries=add_symmetric_springs(tencer.getAttachmentVertices(),tencer.getSprings(), rod.numVertices())\n",
    "tencer = Tencer(tencer.getOpenRods(),tencer.getClosedRods(),new_s,new_a,target_rods)"
   ]
  },
  {
   "cell_type": "code",
   "execution_count": null,
   "id": "feb3200b-3c5f-4820-8a62-eac65f9a794f",
   "metadata": {
    "tags": []
   },
   "outputs": [],
   "source": [
    "# Compute equilibrium\n",
    "opt = NewtonOptimizerOptions()\n",
    "opt.useNegativeCurvatureDirection = True\n",
    "opt.niter = 1000\n",
    "opt.gradTol = compute_grad_tol(tencer)\n",
    "opt.verbose = 1\n",
    "fixed_vars = [rod.thetaOffset(),tencer.getDefoVarsIndexForRod(1) + rod2.thetaOffset()]\n",
    "c = computeEquilibrium(tencer, fixedVars=fixed_vars, opts=opt, hessianShift = 1e-8)"
   ]
  },
  {
   "cell_type": "code",
   "execution_count": null,
   "id": "ba7c89c6-595d-4b4d-876e-a487905d6657",
   "metadata": {
    "tags": []
   },
   "outputs": [],
   "source": [
    "# Check for compressed springs\n",
    "v = tencer.getRestVars()\n",
    "s = np.array(tencer.getSprings())\n",
    "tensionned_springs = []\n",
    "compressed_springs = []\n",
    "for i,spring in enumerate(s):\n",
    "    spring_length = np.linalg.norm(spring.get_coords()[:3] - spring.get_coords()[3:])\n",
    "    spring_rest_length = spring.get_rest_length()\n",
    "    if spring_length < spring_rest_length:\n",
    "        compressed_springs.append(i)\n",
    "    else: \n",
    "        tensionned_springs.append(i)\n",
    "compressed_springs"
   ]
  },
  {
   "cell_type": "code",
   "execution_count": null,
   "id": "45c8e838-1b7b-4549-b701-7236f939af14",
   "metadata": {},
   "outputs": [],
   "source": [
    "# Remove compressed springs\n",
    "tencer = remove_compressed_springs(tencer,fixed_vars,opt)"
   ]
  },
  {
   "cell_type": "code",
   "execution_count": null,
   "id": "2d6d9c3f-a1f1-42be-ac2e-5d717f3cb3fc",
   "metadata": {},
   "outputs": [],
   "source": [
    "print(\"Number of springs: \",tencer.numRestVars())\n",
    "viewer_sym = HybridViewer([tencer],wireframe=True)\n",
    "v_rep = Viewer(aligned_rods[0], superView=viewer_sym)\n",
    "viewer_sym.show()"
   ]
  },
  {
   "cell_type": "code",
   "execution_count": null,
   "id": "90a0dfa5-c3fd-49cb-9ffe-732d6c7337d3",
   "metadata": {},
   "outputs": [],
   "source": [
    "# Save state for potential future use\n",
    "# save_state(tencer, \"data/two_trefoils_symmetries.pkl\")"
   ]
  },
  {
   "cell_type": "markdown",
   "id": "d997bea3-d25b-416e-93f7-01622052af2f",
   "metadata": {
    "tags": []
   },
   "source": [
    "# Replace cables with zero-rest length springs"
   ]
  },
  {
   "cell_type": "code",
   "execution_count": null,
   "id": "579ecbe5-1ccb-4d73-ad42-83fe533fdaac",
   "metadata": {},
   "outputs": [],
   "source": [
    "# Load state if needed\n",
    "# tencer = load_state(\"data/two_trefoils_symmetries.pkl\")"
   ]
  },
  {
   "cell_type": "code",
   "execution_count": null,
   "id": "78364ddc-21b0-4a3b-8d9c-4c63c157dbac",
   "metadata": {},
   "outputs": [],
   "source": [
    "# Optimizer options\n",
    "opt = NewtonOptimizerOptions()\n",
    "opt.useNegativeCurvatureDirection = True\n",
    "opt.niter = 1000\n",
    "opt.gradTol = compute_grad_tol(tencer)\n",
    "opt.verbose = 0\n",
    "opt.hessianScaledBeta = False\n",
    "fixed_vars = [rod.thetaOffset(),tencer.getDefoVarsIndexForRod(1) + rod2.thetaOffset()]"
   ]
  },
  {
   "cell_type": "code",
   "execution_count": null,
   "id": "0bf89e08-f9e6-4777-8399-c6b70f60b558",
   "metadata": {},
   "outputs": [],
   "source": [
    "# Get current springs' rest lengths\n",
    "rest_lengths = []\n",
    "for spring in tencer.getSprings():\n",
    "    rest_lengths.append(spring.get_rest_length())"
   ]
  },
  {
   "cell_type": "code",
   "execution_count": null,
   "id": "591b1c9f-1150-4ab4-9d30-6c38a632f189",
   "metadata": {},
   "outputs": [],
   "source": [
    "# Try reducing rest lengths while keeping the equilibrium stable\n",
    "t_replace_springs1 = time.time()\n",
    "for x in np.linspace(0,1,100):\n",
    "    new_springs = replace_springs_with_rest_length(tencer.getSprings(),np.array(rest_lengths)*x)\n",
    "    tencer1 = Tencer(tencer.getOpenRods(),tencer.getClosedRods(),new_springs,tencer.getAttachmentVertices(),tencer.getTargetRods())\n",
    "    lambdas, modes = compute_vibrational_modes.compute_vibrational_modes(tencer1, fixedVars=fixed_vars, mtype=compute_vibrational_modes.MassMatrixType.FULL, n=16, sigma=-1e-6)\n",
    "    if lambdas[0]>-1e-10:\n",
    "        x_opti = x\n",
    "        print(\"New springs' rest length:\", x)\n",
    "        break \n",
    "t_replace_springs2 = time.time()\n",
    "print(\"Running time: \", t_replace_springs2 - t_replace_springs1)"
   ]
  },
  {
   "cell_type": "code",
   "execution_count": null,
   "id": "d5567a4e-dbbb-4e57-bab8-9c769f57ddba",
   "metadata": {},
   "outputs": [],
   "source": [
    "# Create a new tencer with the new rest lengths\n",
    "new_springs = replace_springs_with_rest_length(tencer.getSprings(),np.array(rest_lengths)*x_opti)\n",
    "tencer = Tencer(tencer.getOpenRods(),tencer.getClosedRods(),new_springs,tencer.getAttachmentVertices(),tencer.getTargetRods())"
   ]
  },
  {
   "cell_type": "code",
   "execution_count": null,
   "id": "1b77201c-67ad-41ec-9165-c5a3b26c570b",
   "metadata": {},
   "outputs": [],
   "source": [
    "# save_state(tencer,\"data/two_trefoils_replace_springs.pkl\")"
   ]
  },
  {
   "cell_type": "markdown",
   "id": "398c1c98-37da-4146-82af-9ac5c2243626",
   "metadata": {
    "tags": []
   },
   "source": [
    "# Spring sparsification"
   ]
  },
  {
   "cell_type": "code",
   "execution_count": null,
   "id": "845fcbbb-93ed-4b25-8c8a-bdd8831507db",
   "metadata": {},
   "outputs": [],
   "source": [
    "# Load state if needed\n",
    "# tencer = load_state(\"data/two_trefoils_replace_springs.pkl\")"
   ]
  },
  {
   "cell_type": "code",
   "execution_count": null,
   "id": "3f156b2b-391e-4b96-a5be-725cfb792703",
   "metadata": {},
   "outputs": [],
   "source": [
    "# Rigid registration: align target rods with current tencer\n",
    "aligned_rods = target_registration(tencer,aligned_rods)"
   ]
  },
  {
   "cell_type": "code",
   "execution_count": null,
   "id": "192f7946-ff23-4d8d-8f63-a368bcde6c28",
   "metadata": {},
   "outputs": [],
   "source": [
    "# Optimizer options\n",
    "opt_opts = NewtonOptimizerOptions()\n",
    "opt_opts.useNegativeCurvatureDirection = True\n",
    "opt_opts.niter = 1000\n",
    "opt_opts.gradTol = 1e-5\n",
    "opt_opts.verbose = 0\n",
    "opt_opts.hessianScaledBeta = False\n",
    "fixed_vars = [rod.thetaOffset(),tencer.getDefoVarsIndexForRod(1) + rod2.thetaOffset()]\n",
    "\n",
    "# This can be used to give a higher weight to some of the curve areas for target approximation\n",
    "# Here we use a uniform weight\n",
    "radii_array = [np.ones(rod.numVertices()),np.ones(rod.numVertices())]\n",
    "\n",
    "# Scipy optimization algorithm\n",
    "algorithm = 'L-BFGS-B'\n",
    "design_optimization_options = {'disp': True, 'maxiter':500}\n",
    "\n",
    "# Callback function: remove rigid motion by realigning target rods with current rods\n",
    "def realign(intermediate_result):\n",
    "    global aligned_rods\n",
    "    try: # seems to depend on scipy version\n",
    "        tencer_opt.newPt(intermediate_result.x)\n",
    "    except:\n",
    "        tencer_opt.newPt(intermediate_result)\n",
    "    aligned_rods = target_registration(tencer,aligned_rods)\n",
    "    tencer_opt.update_target_rods([],aligned_rods,radii_array)"
   ]
  },
  {
   "cell_type": "code",
   "execution_count": null,
   "id": "a3d92cf5-fdb9-4f40-b014-b2a4892a3930",
   "metadata": {},
   "outputs": [],
   "source": [
    "# Sparsification weights - start with outer cables\n",
    "# Start with 0: optimize shape before sparsifying\n",
    "for weight in [0,1,10,1e2,1e3,1e4,1e5]:\n",
    "\n",
    "    sparsification_weights = [weight]*tencer.numRestVars()\n",
    "\n",
    "    # Define symmetry change of variable matrix\n",
    "    ns = len(tencer.getSprings())\n",
    "    symmetry_mat = TripletMatrix(ns,int(ns/3))\n",
    "    for i in range(ns):\n",
    "        symmetry_mat.addNZ(i,int(i/3),1)\n",
    "    symmetry_mat = SuiteSparseMatrix(symmetry_mat)\n",
    "\n",
    "    # Optimization object\n",
    "    tencer_opt = TencerOptimizationSymmetries(symmetry_groups = symmetry_mat,\n",
    "                                      tencer=tencer,\n",
    "                                      Newton_optimizer_options=opt_opts,\n",
    "                                      fixed_vars=fixed_vars,\n",
    "                                      open_target_rod=[],\n",
    "                                      closed_target_rod=aligned_rods,\n",
    "                                      radii=radii_array,\n",
    "                                      sparsification_weights = sparsification_weights,\n",
    "                                      hessian_shift=1e-6)\n",
    "\n",
    "    bound_constraints = Bounds(lb=np.zeros(len(tencer_opt.params())), keep_feasible=[True] * len(tencer_opt.params()))\n",
    "\n",
    "    # Run optimization\n",
    "    t_sparsification1 = time.time()\n",
    "    res = minimize(fun=tencer_opt.J,\n",
    "                   x0=tencer_opt.params(),\n",
    "                   jac=tencer_opt.gradp_J,\n",
    "                   method=algorithm,\n",
    "                   callback=realign,\n",
    "                   bounds=bound_constraints,\n",
    "                   options=design_optimization_options)\n",
    "    t_sparsification2 = time.time()\n",
    "\n",
    "    # Remove springs with zero stiffness\n",
    "    tencer = remove_zero_springs(tencer)\n",
    "\n",
    "    print(\"Running time: \", t_sparsification2 - t_sparsification1)\n",
    "    print(\"Remaining springs: \", tencer.numRestVars())"
   ]
  },
  {
   "cell_type": "code",
   "execution_count": null,
   "id": "63664443-3cff-4e6d-8313-28799ea5a157",
   "metadata": {},
   "outputs": [],
   "source": [
    "viewer_sp = HybridViewer([tencer],wireframe=True)\n",
    "v_sp1 = Viewer(aligned_rods[0], superView=viewer_sp)\n",
    "v_sp2 = Viewer(aligned_rods[1], superView=viewer_sp)\n",
    "viewer_sp.show()"
   ]
  },
  {
   "cell_type": "code",
   "execution_count": null,
   "id": "bf42f7ff-e074-405f-a9e4-38a420b9b072",
   "metadata": {},
   "outputs": [],
   "source": [
    "# save_state(tencer,\"data/two_trefoils_sparse.pkl\")"
   ]
  },
  {
   "cell_type": "markdown",
   "id": "9fb0f01f-f462-40e9-ac3c-da6710608fce",
   "metadata": {},
   "source": [
    "# Optimize with sliding nodes"
   ]
  },
  {
   "cell_type": "code",
   "execution_count": null,
   "id": "f33f7cba-3cae-4544-8c48-0299f50cff6f",
   "metadata": {},
   "outputs": [],
   "source": [
    "# Load state if needed\n",
    "# tencer = load_state(\"data/two_trefoils_sparse.pkl\")"
   ]
  },
  {
   "cell_type": "code",
   "execution_count": null,
   "id": "926acd14-7351-4bfb-bf0a-a0fe81fb4a02",
   "metadata": {},
   "outputs": [],
   "source": [
    "# Rigid registration: align target rods with current tencer\n",
    "aligned_rods = target_registration(tencer,aligned_rods)"
   ]
  },
  {
   "cell_type": "code",
   "execution_count": null,
   "id": "48b9055f-cae7-4ed5-979f-24102797b4e2",
   "metadata": {},
   "outputs": [],
   "source": [
    "# Optimizer options\n",
    "opt_opts = NewtonOptimizerOptions()\n",
    "opt_opts.useNegativeCurvatureDirection = True\n",
    "opt_opts.niter = 1000\n",
    "opt_opts.gradTol = 1e-5\n",
    "opt_opts.verbose = 0\n",
    "opt_opts.hessianScaledBeta = False\n",
    "fixed_vars = [rod.thetaOffset(),tencer.getDefoVarsIndexForRod(1) + rod2.thetaOffset()]\n",
    "\n",
    "# This can be used to give a higher weight to some of the curve areas for target approximation\n",
    "# Here we use a uniform weight\n",
    "radii_array = [np.ones(rod.numVertices()),np.ones(rod.numVertices())]\n",
    "\n",
    "# Scipy optimization algorithm\n",
    "algorithm = 'L-BFGS-B'\n",
    "design_optimization_options = {'disp': True, 'maxiter':500, 'ftol': 1e-10}\n",
    "\n",
    "# Here we are optimizing over the springs' positions: the rest variables type must be set to StiffnessAndSpringAnchors\n",
    "tencer.setRestVarsType(RestVarsType.StiffnessAndSpringAnchors)\n",
    "\n",
    "# Callback function: remove rigid motion by realigning target rods with current rods\n",
    "def realign(intermediate_result):\n",
    "    global aligned_rods\n",
    "    try: # seems to depend on scipy version\n",
    "        tencer_opt.newPt(intermediate_result.x)\n",
    "    except:\n",
    "        tencer_opt.newPt(intermediate_result)\n",
    "    aligned_rods = target_registration(tencer,aligned_rods)\n",
    "    tencer_opt.update_target_rods([],aligned_rods,radii_array)"
   ]
  },
  {
   "cell_type": "code",
   "execution_count": null,
   "id": "b2d98daf-194b-472f-9b51-b6ee82886696",
   "metadata": {},
   "outputs": [],
   "source": [
    "# Symmetries\n",
    "L = rod.restLength()/3\n",
    "\n",
    "# Define symmetry change of variable matrix\n",
    "ns = len(tencer.getSprings())\n",
    "symmetry_mat = TripletMatrix(3*ns,ns)\n",
    "for i in range(ns):\n",
    "    symmetry_mat.addNZ(i,int(i/3),1)\n",
    "for i in range(ns,3*ns):\n",
    "    symmetry_mat.addNZ(i,int(ns/3) + int((i-ns)/6) * 2 + (i%2),1)\n",
    "symmetry_mat = SuiteSparseMatrix(symmetry_mat)\n",
    "\n",
    "# Length offsets\n",
    "length_offsets = np.zeros(3*ns)\n",
    "l = np.zeros(2*ns)\n",
    "rv = tencer.getRestVars()[ns:] - L\n",
    "l[rv > 0] += L\n",
    "rv -= L\n",
    "l[rv > 0] += L\n",
    "length_offsets[ns:] = l"
   ]
  },
  {
   "cell_type": "code",
   "execution_count": null,
   "id": "94a6a49e-54b4-445e-b3b2-a8207360851f",
   "metadata": {},
   "outputs": [],
   "source": [
    "# Optimization object\n",
    "tencer_opt = TencerOptimizationSymmetries(symmetry_groups = symmetry_mat,\n",
    "                                  tencer=tencer,\n",
    "                                  Newton_optimizer_options=opt_opts,\n",
    "                                  fixed_vars=fixed_vars,\n",
    "                                  open_target_rod=[],\n",
    "                                  closed_target_rod=aligned_rods,\n",
    "                                  radii=radii_array,\n",
    "                                  length_offset = length_offsets,\n",
    "                                  hessian_shift=1e-6)\n",
    "\n",
    "bound_constraints = Bounds(lb=tencer_opt.getVarsLowerBounds(), ub = tencer_opt.getVarsUpperBounds(), keep_feasible=[True] * len(tencer_opt.params()))\n",
    "\n",
    "# Run optimization\n",
    "t_sn1 = time.time()\n",
    "res = minimize(fun=tencer_opt.J,\n",
    "               x0=tencer_opt.params(),\n",
    "               jac=tencer_opt.gradp_J,\n",
    "               method=algorithm,\n",
    "               callback=realign,\n",
    "               bounds=bound_constraints,\n",
    "               options=design_optimization_options)\n",
    "t_sn2 = time.time()\n",
    "\n",
    "print(\"Total time: \", t_sn2 - t_sn1)"
   ]
  },
  {
   "cell_type": "code",
   "execution_count": null,
   "id": "8fe1faf0-9a59-43d6-b68c-e5bc152e71f2",
   "metadata": {},
   "outputs": [],
   "source": [
    "# View result\n",
    "viewer_sn = HybridViewer([tencer],wireframe=True)\n",
    "v_sn1 = Viewer(aligned_rods[0], superView=viewer_sn)\n",
    "v_sn2 = Viewer(aligned_rods[1], superView=viewer_sn)\n",
    "viewer_sn.show()"
   ]
  },
  {
   "cell_type": "code",
   "execution_count": null,
   "id": "e62a1c33",
   "metadata": {},
   "outputs": [],
   "source": [
    "# Save result to obj\n",
    "output_dir = \"output\"\n",
    "os.makedirs(output_dir, exist_ok=True)\n",
    "export_knot_to_obj(f\"{output_dir}/two_trefoils_scipy\", tencer)"
   ]
  },
  {
   "cell_type": "code",
   "execution_count": null,
   "id": "9fc712a3",
   "metadata": {},
   "outputs": [],
   "source": []
  }
 ],
 "metadata": {
  "kernelspec": {
   "display_name": "Python 3",
   "language": "python",
   "name": "python3"
  },
  "language_info": {
   "codemirror_mode": {
    "name": "ipython",
    "version": 3
   },
   "file_extension": ".py",
   "mimetype": "text/x-python",
   "name": "python",
   "nbconvert_exporter": "python",
   "pygments_lexer": "ipython3",
   "version": "3.9.18"
  }
 },
 "nbformat": 4,
 "nbformat_minor": 5
}
