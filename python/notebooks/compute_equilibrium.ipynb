{
 "cells": [
  {
   "cell_type": "code",
   "execution_count": null,
   "id": "dda41fd7-8476-4d08-9234-143412fc2675",
   "metadata": {},
   "outputs": [],
   "source": [
    "import sys; sys.path.append(\"..\")\n",
    "import IPython\n",
    "if (ipy := IPython.get_ipython()) is not None:\n",
    "    ipy.run_line_magic(\"load_ext\", \"autoreload\")\n",
    "    ipy.run_line_magic(\"autoreload\", \"2\")\n",
    "import numpy as np\n",
    "from scipy.spatial.transform import Rotation as R\n",
    "\n",
    "import ElasticRods\n",
    "from elastic_rods import PeriodicRod, RodMaterial\n",
    "\n",
    "from tencers import *\n",
    "\n",
    "from py_newton_optimizer import NewtonOptimizerOptions\n",
    "\n",
    "from Tencers.viewers import HybridViewer\n",
    "from Tencers.springs import *"
   ]
  },
  {
   "cell_type": "markdown",
   "id": "b795a263",
   "metadata": {},
   "source": [
    "This notebooks creates a custom tencer (by providing a set of rods and springs) and computes its equilibrium state."
   ]
  },
  {
   "cell_type": "markdown",
   "id": "f19f5cae-2285-4439-bde3-32c7cfe81c7a",
   "metadata": {},
   "source": [
    "# Create rods"
   ]
  },
  {
   "cell_type": "code",
   "execution_count": null,
   "id": "268d60e2-0781-43f4-a3c6-9837760e1dde",
   "metadata": {},
   "outputs": [],
   "source": [
    "# Create rod points\n",
    "\n",
    "n_divisions = 103\n",
    "\n",
    "p = 2\n",
    "q = 3\n",
    "\n",
    "t = np.linspace(0,2*np.pi,n_divisions,endpoint=True)\n",
    "t = np.concatenate([t, [t[1]]])  # last and first edge overlap\n",
    "\n",
    "r = np.cos(q*t) + 2.5\n",
    "\n",
    "x = r * np.cos(p*t) * 10.8\n",
    "z = r * np.sin(p*t) * 10.8\n",
    "y = -np.sin(q*t) * 10.8\n",
    "\n",
    "rod_points = np.column_stack([x, y, z])\n",
    "\n",
    "# Create rod\n",
    "\n",
    "rod = PeriodicRod(rod_points, zeroRestCurvature=True)\n",
    "\n",
    "rod_youngs_modulus = 1e6\n",
    "material = RodMaterial('ellipse', rod_youngs_modulus, 0.5, [0.1, 0.1])  # circular cross-section\n",
    "rod.setMaterial(material)"
   ]
  },
  {
   "cell_type": "code",
   "execution_count": null,
   "id": "67035b03-c9dc-48c1-818d-5894a9122f67",
   "metadata": {},
   "outputs": [],
   "source": [
    "# Create a second rod\n",
    "rod_points_rotated = R.from_euler('z', np.pi).apply(rod_points)\n",
    "rod2 = PeriodicRod(rod_points_rotated, zeroRestCurvature=True)\n",
    "rod2.setMaterial(material)"
   ]
  },
  {
   "cell_type": "code",
   "execution_count": null,
   "id": "049acfd6-e0a2-4558-a175-8e0194e96458",
   "metadata": {},
   "outputs": [],
   "source": [
    "rods = [rod,rod2]\n",
    "target_rods = [rod.rod, rod2.rod]"
   ]
  },
  {
   "cell_type": "markdown",
   "id": "55596375-0f87-4fbc-8c9b-13b002b9951b",
   "metadata": {},
   "source": [
    "# Create springs"
   ]
  },
  {
   "cell_type": "code",
   "execution_count": null,
   "id": "22bc2833-b746-4eba-a598-828d0bb7ab13",
   "metadata": {},
   "outputs": [],
   "source": [
    "# Spring endpoints on rods \n",
    "# Attachment vertex = [rod_idx_1, vertex_1, rod_idx_2, vertex_2]\n",
    "attachment_vertices = [[0,17,1,85],[0,51,1,51],[0,85,1,17],\n",
    "                       [0,30,1,47],[0,64,1,13],[0,98,1,81],[0,47,1,30],[0,13,1,64],[0,81,1,98],\n",
    "                       [0,5,1,22],[0,39,1,90],[0,73,1,56],[0,22,1,5],[0,90,1,39],[0,56,1,73]]\n",
    "\n",
    "# Spring stiffnesses\n",
    "stiffnesses = [2.15700317e-02, 2.15700317e-02, 2.15700317e-02, 1.53859013e-02,\n",
    "               1.53859013e-02, 1.53859013e-02, 1.53859013e-02, 1.53859013e-02,\n",
    "               1.53859013e-02, 1.96186324e-02, 1.96186324e-02, 1.96186324e-02,\n",
    "               1.96186324e-02, 1.96186324e-02, 1.96186324e-02]\n",
    "\n",
    "# Spring rest lengths\n",
    "rest_lengths = np.zeros(len(attachment_vertices))\n",
    "\n",
    "# Create springs\n",
    "springs,attachment_vertices_ = create_multi_rod_springs(rods,attachment_vertices,stiffness=stiffnesses,rest_lengths=rest_lengths)\n",
    "\n",
    "# Create tencer\n",
    "tencer = Tencer([],rods,springs,attachment_vertices_,targets=target_rods)"
   ]
  },
  {
   "cell_type": "markdown",
   "id": "bea9bf25",
   "metadata": {},
   "source": [
    "# Compute equilibrium state"
   ]
  },
  {
   "cell_type": "code",
   "execution_count": null,
   "id": "f2f04784-6471-4564-9dea-39b2b46e468e",
   "metadata": {
    "collapsed": true,
    "jupyter": {
     "outputs_hidden": true
    },
    "tags": []
   },
   "outputs": [],
   "source": [
    "# Equilibrium options\n",
    "opt = NewtonOptimizerOptions()\n",
    "opt.useNegativeCurvatureDirection = True\n",
    "opt.niter = 500\n",
    "opt.hessianScaledBeta = False\n",
    "fixed_vars = []\n",
    "\n",
    "# Compute equilibrium\n",
    "c = computeEquilibrium(tencer,fixedVars=fixed_vars, opts=opt, hessianShift=1e-8)"
   ]
  },
  {
   "cell_type": "code",
   "execution_count": null,
   "id": "77248826-80a1-4f16-97b7-2a56bdb2aa4a",
   "metadata": {},
   "outputs": [],
   "source": [
    "# View result\n",
    "viewer = HybridViewer([tencer], wireFrame = True)\n",
    "viewer.show()"
   ]
  }
 ],
 "metadata": {
  "kernelspec": {
   "display_name": "Python 3",
   "language": "python",
   "name": "python3"
  },
  "language_info": {
   "codemirror_mode": {
    "name": "ipython",
    "version": 3
   },
   "file_extension": ".py",
   "mimetype": "text/x-python",
   "name": "python",
   "nbconvert_exporter": "python",
   "pygments_lexer": "ipython3",
   "version": "3.10.4"
  }
 },
 "nbformat": 4,
 "nbformat_minor": 5
}
