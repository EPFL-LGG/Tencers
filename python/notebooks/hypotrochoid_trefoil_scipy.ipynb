{
 "cells": [
  {
   "cell_type": "code",
   "execution_count": null,
   "id": "ee521075-b80e-4de6-94f3-405e72815738",
   "metadata": {},
   "outputs": [],
   "source": [
    "import sys; sys.path.append(\"..\")\n",
    "import IPython\n",
    "if (ipy:= IPython.get_ipython()) is not None:\n",
    "    ipy.run_line_magic(\"load_ext\", \"autoreload\")\n",
    "    ipy.run_line_magic(\"autoreload\", \"2\")\n",
    "import numpy as np\n",
    "from scipy.optimize import minimize, Bounds\n",
    "import time, os\n",
    "\n",
    "import ElasticRods\n",
    "import elastic_rods\n",
    "from elastic_rods import PeriodicRod, RodMaterial\n",
    "from linkage_vis import LinkageViewer as Viewer\n",
    "\n",
    "from py_newton_optimizer import NewtonOptimizerOptions\n",
    "import compute_vibrational_modes\n",
    "from sparse_matrices import SuiteSparseMatrix, TripletMatrix\n",
    "\n",
    "from tencers import *\n",
    "\n",
    "from Tencers.viewers import HybridViewer\n",
    "from Tencers.springs import *\n",
    "from Tencers.state_saver import save_state, load_state\n",
    "from Tencers.rods_IO import *\n",
    "from Tencers.init import *\n"
   ]
  },
  {
   "cell_type": "markdown",
   "id": "6c4774bf",
   "metadata": {},
   "source": [
    "This notebook runs an inverse design optimization algorithm to find the cables that allow to approximate a hypotrochoid trefoil tencer."
   ]
  },
  {
   "cell_type": "markdown",
   "id": "342edf78-1389-4754-81d5-2eb4bbe92bea",
   "metadata": {},
   "source": [
    "# Define target rods"
   ]
  },
  {
   "cell_type": "code",
   "execution_count": null,
   "id": "615efca3-8d42-43e5-ba8c-499e12848514",
   "metadata": {
    "tags": []
   },
   "outputs": [],
   "source": [
    "# Create target rod: hypotrochoid trefoil\n",
    "\n",
    "n_divisions = 103\n",
    "\n",
    "t = np.linspace(0,2*np.pi,n_divisions,endpoint=True)\n",
    "t = np.concatenate([t, [t[1]]])  # last and first edge overlap\n",
    "x = np.sin(t) + 2 * np.sin(2*t)\n",
    "y = np.cos(t) - 2 * np.cos(2*t)\n",
    "z = -np.sin(3*t)\n",
    "\n",
    "rod_points = np.column_stack([x, y, z]) * 3.47 * 2\n",
    "\n",
    "rod = PeriodicRod(rod_points, zeroRestCurvature=True)\n",
    "rod_youngs_modulus = 13300\n",
    "material = RodMaterial('ellipse', rod_youngs_modulus, 0.5, [0.1, 0.1])  \n",
    "rod.setMaterial(material)\n",
    "minimize_twist(rod)\n",
    "\n",
    "\n",
    "print(\"Number of vertices: \", rod.numVertices())\n",
    "print(\"Rod length: \", rod.restLength(), \"cm\")\n",
    "print(\"Rod thickness: \", rod.rod.material(0).crossSectionHeight, \"cm\")\n",
    "print(\"Rod Young modulus: \", rod_youngs_modulus, \"MPa\")\n",
    "\n",
    "viewer1 = Viewer(rod, 400,300, wireframe=True)\n",
    "viewer1.show()"
   ]
  },
  {
   "cell_type": "code",
   "execution_count": null,
   "id": "ed94570c-9c31-40fe-afc6-47d4aa4cad07",
   "metadata": {},
   "outputs": [],
   "source": [
    "open_rods = []\n",
    "closed_rods = [rod]\n",
    "rods = [rod]\n",
    "target_rods = [rod.rod]"
   ]
  },
  {
   "cell_type": "markdown",
   "id": "0f469c68-2e97-4598-90b5-7e671ee39b59",
   "metadata": {
    "tags": []
   },
   "source": [
    "# Cable initialization: remove compressed springs"
   ]
  },
  {
   "cell_type": "code",
   "execution_count": null,
   "id": "06eb670f-4cfb-4f71-bc01-dc0f2f6d6279",
   "metadata": {},
   "outputs": [],
   "source": [
    "# Initialize springs\n",
    "springs = []\n",
    "attachment_vertices = []\n",
    "init_stiffness = compute_initial_stiffness_pr(rod)\n",
    "print(\"Initial spring stiffness: \", init_stiffness)\n",
    "\n",
    "# Dense network of springs\n",
    "for i in range(rod.numVertices()):\n",
    "    for j in range(i+2,rod.numVertices()):\n",
    "        if i == 0 and j == rod.numVertices() - 1:\n",
    "            continue\n",
    "        attachment_vertices.append(SpringAttachmentVertices(0,i,0,j))\n",
    "        coordA = rod.deformedPoints()[i]\n",
    "        coordB = rod.deformedPoints()[j]\n",
    "        dist = np.linalg.norm(coordB-coordA)\n",
    "        springs.append(Spring(coordA,coordB,init_stiffness,dist))\n",
    "        if dist < 1e-6: # Make sure data is not corrupted and that no 2 points are at distance 0\n",
    "            raise Exception(\"Error: intra-rod spring of length 0\")\n",
    "\n",
    "# Create initial tencer\n",
    "tencer = Tencer([],[rod],springs,attachment_vertices, [rod.rod])"
   ]
  },
  {
   "cell_type": "code",
   "execution_count": null,
   "id": "4f9abedb-8cce-487c-bab0-b79945ff29a5",
   "metadata": {},
   "outputs": [],
   "source": [
    "# Optimizer options (equilibrium)\n",
    "opt = NewtonOptimizerOptions()\n",
    "opt.useNegativeCurvatureDirection = True\n",
    "opt.niter = 1000\n",
    "opt.verbose = 0\n",
    "opt.hessianScaledBeta = False\n",
    "opt.gradTol = compute_grad_tol(tencer)\n",
    "fixed_vars = [] "
   ]
  },
  {
   "cell_type": "code",
   "execution_count": null,
   "id": "b40c940e-9ad8-4658-807c-1c584581e3d2",
   "metadata": {
    "tags": []
   },
   "outputs": [],
   "source": [
    "# Initialization: remove all compressed springs\n",
    "t_init1 = time.time()\n",
    "tencer = remove_compressed_springs(tencer,fixed_vars,opt)\n",
    "t_init2 = time.time()\n",
    "print(\"total time: \", t_init2 - t_init1)"
   ]
  },
  {
   "cell_type": "code",
   "execution_count": null,
   "id": "837b3ddf-c8d5-4197-b97f-73887dfabbc3",
   "metadata": {},
   "outputs": [],
   "source": [
    "# Rigid registration of the target for visualization purposes\n",
    "aligned_rod = target_registration(tencer,[rod])[0]\n",
    "\n",
    "# Visualization\n",
    "viewer_init = HybridViewer([tencer],wireframe=True)\n",
    "v_init = Viewer(aligned_rod, superView=viewer_init)\n",
    "viewer_init.show()"
   ]
  },
  {
   "cell_type": "code",
   "execution_count": null,
   "id": "23c3e83c-8761-4570-b5de-938d814e2e78",
   "metadata": {},
   "outputs": [],
   "source": [
    "# Save state for potential future use\n",
    "# save_state(tencer,\"data/trefoil_hypotrochoid_init.pkl\")"
   ]
  },
  {
   "cell_type": "markdown",
   "id": "c712f613-f8b3-4794-9b06-d19469762853",
   "metadata": {
    "tags": []
   },
   "source": [
    "# Greedy decimation: remove springs with lowest force"
   ]
  },
  {
   "cell_type": "code",
   "execution_count": null,
   "id": "7783dce5-ddd2-43c3-bd8e-659ace5c9f7a",
   "metadata": {},
   "outputs": [],
   "source": [
    "# Load state if needed\n",
    "# tencer = load_state(\"data/trefoil_hypotrochoid_init.pkl\")"
   ]
  },
  {
   "cell_type": "code",
   "execution_count": null,
   "id": "d8e6b0cf-67e6-4a60-9d73-c10c1afe4375",
   "metadata": {},
   "outputs": [],
   "source": [
    "# Rigid registration: align target\n",
    "aligned_rods = target_registration(tencer,[aligned_rod])"
   ]
  },
  {
   "cell_type": "code",
   "execution_count": null,
   "id": "02debfde-a636-4d99-ba00-fb9a1be352a9",
   "metadata": {},
   "outputs": [],
   "source": [
    "# Optimizer options\n",
    "opt = NewtonOptimizerOptions()\n",
    "opt.useNegativeCurvatureDirection = True\n",
    "opt.niter = 1000\n",
    "opt.gradTol = compute_grad_tol(tencer)\n",
    "opt.verbose = 0\n",
    "opt.hessianScaledBeta = False\n",
    "fixed_vars = [] "
   ]
  },
  {
   "cell_type": "code",
   "execution_count": null,
   "id": "00150349-c2d5-4078-8b3d-4f172782e3f9",
   "metadata": {
    "tags": []
   },
   "outputs": [],
   "source": [
    "# Greedy decimation\n",
    "\n",
    "t_greedy1 = time.time()\n",
    "\n",
    "# Set disance threshold\n",
    "distance_threshold = 5e-6\n",
    "\n",
    "tencer,aligned_rods = greedy_decimation_step(tencer,aligned_rods, target_registration, opt, fixed_vars,distance_threshold=distance_threshold)\n",
    "\n",
    "t_greedy_2 = time.time()"
   ]
  },
  {
   "cell_type": "code",
   "execution_count": null,
   "id": "75700384-6db2-432b-a729-a8ed7e2961b3",
   "metadata": {},
   "outputs": [],
   "source": [
    "distance = distance_to_target(tencer,aligned_rods)\n",
    "print(\"Normalized distance to the target: \", distance)\n",
    "print(\"Number of springs: \", tencer.numRestVars())\n",
    "print(\"Greedy decimation running time: \", t_greedy_2 - t_greedy1)"
   ]
  },
  {
   "cell_type": "code",
   "execution_count": null,
   "id": "b93c1b24-4e12-4374-85f3-21b01078dd1e",
   "metadata": {},
   "outputs": [],
   "source": [
    "# Visualization\n",
    "viewer_greedy = HybridViewer([tencer],wireframe=True)\n",
    "v_greedy = Viewer(aligned_rod, superView=viewer_greedy)\n",
    "viewer_greedy.show()"
   ]
  },
  {
   "cell_type": "code",
   "execution_count": null,
   "id": "346f5647-e676-4604-a0aa-bf4f56929742",
   "metadata": {},
   "outputs": [],
   "source": [
    "# Save state for potential future use\n",
    "# save_state(tencer, \"data/trefoil_hypotrochoid_greedy.pkl\")"
   ]
  },
  {
   "cell_type": "markdown",
   "id": "0f71aa0c-e6ba-464c-a048-6f23fc0398ba",
   "metadata": {
    "tags": []
   },
   "source": [
    "# Define symmetries (for optimization)"
   ]
  },
  {
   "cell_type": "code",
   "execution_count": null,
   "id": "3b0e5a1b-b012-41e2-9de4-2e606bbcb5e6",
   "metadata": {},
   "outputs": [],
   "source": [
    "# Load state if needed\n",
    "# tencer = load_state(\"data/trefoil_hypotrochoid_greedy.pkl\")"
   ]
  },
  {
   "cell_type": "code",
   "execution_count": null,
   "id": "75a66d7f-e80c-4e08-8491-2e2ffe375f45",
   "metadata": {},
   "outputs": [],
   "source": [
    "# Find symmetric springs for a hypotrochoic trefoil with a 3-fold symmetry\n",
    "\n",
    "def add_symmetric_springs(attachment_vertices, springs, num_vertices):\n",
    "    \n",
    "    symmetry_type = 3\n",
    "    k = num_vertices / symmetry_type\n",
    "    \n",
    "    num_springs = len(attachment_vertices)\n",
    "    spring_used = [False] * num_springs\n",
    "    new_attachment_vertices = [] \n",
    "    new_springs = [] \n",
    "    \n",
    "    for i in range(num_springs):\n",
    "        if not spring_used[i]:\n",
    "            \n",
    "            # Get spring anchor points\n",
    "            vA = attachment_vertices[i].vertexA\n",
    "            vB = attachment_vertices[i].vertexB\n",
    "            \n",
    "            \n",
    "            # Add this spring to the list\n",
    "            new_attachment_vertices.append([0,vA,0,vB])\n",
    "            stiffness = springs[i].stiffness \n",
    "            rest_length = springs[i].get_rest_length()\n",
    "            new_springs.append(Spring(np.zeros(3),np.ones(3),stiffness,rest_length))\n",
    "            \n",
    "            # Get symmetric springs\n",
    "            for m in range(symmetry_type-1):\n",
    "                vS0 = int((vA + (m+1)*k)) % num_vertices\n",
    "                vS1 = int((vB + (m+1)*k)) % num_vertices  \n",
    "            \n",
    "                # Add symmetric spring to the list\n",
    "                new_attachment_vertices.append([0,vS0,0,vS1])\n",
    "                new_springs.append(Spring(np.zeros(3),np.ones(3),stiffness,rest_length))\n",
    "\n",
    "                # If the symmetric spring is in the list, mark it as used\n",
    "                for j in range(i+1, num_springs):\n",
    "                    vA_j = attachment_vertices[j].vertexA\n",
    "                    vB_j = attachment_vertices[j].vertexB\n",
    "                    if vA_j == vS0 and vB_j == vS1:\n",
    "                        spring_used[j] = True\n",
    "                    if vA_j == vS1 and vB_j == vS0:\n",
    "                        spring_used[j] = True\n",
    "                        \n",
    "    symmetries = np.arange(len(new_springs)).reshape(-1,symmetry_type)\n",
    "    a_v = []\n",
    "    for x in new_attachment_vertices:\n",
    "        a_v.append(SpringAttachmentVertices(x[0],x[1],x[2],x[3]))\n",
    "        \n",
    "    return new_springs,a_v,symmetries"
   ]
  },
  {
   "cell_type": "code",
   "execution_count": null,
   "id": "aa378993-8c19-46e4-a7fa-4f658d81b97d",
   "metadata": {},
   "outputs": [],
   "source": [
    "# Add symmetric springs\n",
    "new_s,new_a,symmetries=add_symmetric_springs(tencer.getAttachmentVertices(),tencer.getSprings(), rod.numVertices())\n",
    "tencer = Tencer([],tencer.getClosedRods(),new_s,new_a,target_rods)"
   ]
  },
  {
   "cell_type": "code",
   "execution_count": null,
   "id": "a0141058-89ba-48d6-bd02-2fd6e0490f53",
   "metadata": {
    "tags": []
   },
   "outputs": [],
   "source": [
    "# Compute equilibrium\n",
    "opt = NewtonOptimizerOptions()\n",
    "opt.useNegativeCurvatureDirection = True\n",
    "opt.niter = 100\n",
    "opt.gradTol = compute_grad_tol(tencer)\n",
    "opt.verbose = 1\n",
    "fixed_vars = [rod.thetaOffset()]\n",
    "c = computeEquilibrium(tencer,fixedVars=fixed_vars, opts=opt, hessianShift = 1e-8)"
   ]
  },
  {
   "cell_type": "code",
   "execution_count": null,
   "id": "ce6c87df-a450-4d9d-820e-929cc957fb18",
   "metadata": {},
   "outputs": [],
   "source": [
    "# Check for compressed springs\n",
    "v = tencer.getRestVars()\n",
    "s = np.array(tencer.getSprings())\n",
    "tensionned_springs = []\n",
    "compressed_springs = []\n",
    "for i,spring in enumerate(s):\n",
    "    spring_length = np.linalg.norm(spring.get_coords()[:3] - spring.get_coords()[3:])\n",
    "    spring_rest_length = spring.get_rest_length()\n",
    "    if spring_length < spring_rest_length:\n",
    "        compressed_springs.append(i)\n",
    "    else: \n",
    "        tensionned_springs.append(i)\n",
    "compressed_springs"
   ]
  },
  {
   "cell_type": "code",
   "execution_count": null,
   "id": "bb5cf816-60e1-4419-827b-82c46a5bf3e3",
   "metadata": {},
   "outputs": [],
   "source": [
    "print(\"Number of springs: \", len(tencer.getSprings()))"
   ]
  },
  {
   "cell_type": "code",
   "execution_count": null,
   "id": "209d250c-4e03-4f5a-96ca-dd175e61030b",
   "metadata": {},
   "outputs": [],
   "source": [
    "# Save state for potential future use\n",
    "# save_state(tencer, \"data/trefoil_hypotrochoid_symmetries.pkl\")"
   ]
  },
  {
   "cell_type": "markdown",
   "id": "0d6f277d-d34e-4d14-857e-726fcb62536e",
   "metadata": {
    "tags": []
   },
   "source": [
    "# Replace cables with zero-rest length springs"
   ]
  },
  {
   "cell_type": "code",
   "execution_count": null,
   "id": "fa828308-8231-45ba-89cd-371bbf1e4809",
   "metadata": {},
   "outputs": [],
   "source": [
    "# Load state if needed\n",
    "# tencer = load_state(\"data/trefoil_hypotrochoid_symmetries.pkl\")"
   ]
  },
  {
   "cell_type": "code",
   "execution_count": null,
   "id": "508c8fed-ffe7-48a0-a5e1-2a2b69520924",
   "metadata": {},
   "outputs": [],
   "source": [
    "# Set equilibrium options\n",
    "opt = NewtonOptimizerOptions()\n",
    "opt.useNegativeCurvatureDirection = True\n",
    "opt.niter = 100\n",
    "opt.gradTol = compute_grad_tol(tencer)\n",
    "opt.verbose = 0\n",
    "fixed_vars = [rod.thetaOffset()]"
   ]
  },
  {
   "cell_type": "code",
   "execution_count": null,
   "id": "b59696fc-e031-42d3-9577-681400c00a4a",
   "metadata": {},
   "outputs": [],
   "source": [
    "# Get current rest lengths\n",
    "rest_lengths = []\n",
    "for spring in tencer.getSprings():\n",
    "    rest_lengths.append(spring.get_rest_length())"
   ]
  },
  {
   "cell_type": "code",
   "execution_count": null,
   "id": "8533e7f4-5147-4ea2-bdb8-ae2eeabc175e",
   "metadata": {},
   "outputs": [],
   "source": [
    "# Try reducing rest lengths while keeping the equilibrium stable\n",
    "t_replace_springs1 = time.time()\n",
    "for x in np.linspace(0,1,100):\n",
    "    new_springs = replace_springs_with_rest_length(tencer.getSprings(),np.array(rest_lengths)*x)\n",
    "    tencer1 = Tencer([],tencer.getClosedRods(),new_springs,tencer.getAttachmentVertices(),tencer.getTargetRods())\n",
    "    lambdas, modes = compute_vibrational_modes.compute_vibrational_modes(tencer1, fixedVars=fixed_vars, mtype=compute_vibrational_modes.MassMatrixType.FULL, n=16, sigma=-1e-6)\n",
    "    if lambdas[0]>-1e-10:\n",
    "        x_opti = x\n",
    "        print(\"Found minimal possible rest length: \",x)\n",
    "        break \n",
    "t_replace_springs2 = time.time()\n",
    "print(\"Running time: \", t_replace_springs2 - t_replace_springs1)"
   ]
  },
  {
   "cell_type": "code",
   "execution_count": null,
   "id": "fb02e416-8a09-4dd4-84db-7e18e8c5b377",
   "metadata": {},
   "outputs": [],
   "source": [
    "# Create a new tencer with the new rest lengths\n",
    "new_springs = replace_springs_with_rest_length(tencer.getSprings(),np.array(rest_lengths)*x_opti)\n",
    "tencer = Tencer([],tencer.getClosedRods(),new_springs,tencer.getAttachmentVertices(),tencer.getTargetRods())"
   ]
  },
  {
   "cell_type": "code",
   "execution_count": null,
   "id": "812f75bc-0982-4577-ac93-56f00c53ca61",
   "metadata": {},
   "outputs": [],
   "source": [
    "# View tencer\n",
    "viewer_rep = HybridViewer([tencer],wireframe=True)\n",
    "v_rep = Viewer(aligned_rod, superView=viewer_rep)\n",
    "viewer_rep.show()"
   ]
  },
  {
   "cell_type": "code",
   "execution_count": null,
   "id": "9349b8cd-e8a0-4df1-b0df-97c0b1896fd9",
   "metadata": {},
   "outputs": [],
   "source": [
    "# Save state for potential future use\n",
    "# save_state(tencer,\"data/trefoil_hypotrochoid_replace_springs.pkl\")"
   ]
  },
  {
   "cell_type": "markdown",
   "id": "80aba552-51f6-4282-be24-6872e53fee22",
   "metadata": {
    "tags": []
   },
   "source": [
    "# Spring sparsification"
   ]
  },
  {
   "cell_type": "code",
   "execution_count": null,
   "id": "da02ca6b-28ce-4aac-9d6e-04447530a263",
   "metadata": {},
   "outputs": [],
   "source": [
    "# Load state if needed\n",
    "# tencer = load_state(\"data/trefoil_hypotrochoid_replace_springs.pkl\")"
   ]
  },
  {
   "cell_type": "code",
   "execution_count": null,
   "id": "d002fd28-e831-448e-b9e1-e10338660e46",
   "metadata": {},
   "outputs": [],
   "source": [
    "# Rigid registration\n",
    "aligned_rods = target_registration(tencer,aligned_rods)"
   ]
  },
  {
   "cell_type": "code",
   "execution_count": null,
   "id": "673f3f4c-da98-4721-8fd8-81254bd929f9",
   "metadata": {},
   "outputs": [],
   "source": [
    "# Equilibrium options used in the inner loop\n",
    "opt_opts = NewtonOptimizerOptions()\n",
    "opt_opts.useNegativeCurvatureDirection = True\n",
    "opt_opts.niter = 1000\n",
    "opt_opts.gradTol = 1e-5\n",
    "opt_opts.verbose = 1\n",
    "opt_opts.hessianScaledBeta = False\n",
    "fixed_vars = [rod.thetaOffset()]\n",
    "\n",
    "# This allows to provide weights to better approximate some areas of the target rod\n",
    "# In the paper we only used uniform weights\n",
    "radii_array = [np.ones(rod.numVertices())]\n",
    "\n",
    "# Scipy optimization algorithm\n",
    "algorithm = 'L-BFGS-B'\n",
    "design_optimization_options = {'disp': True, 'maxiter':500}\n",
    "\n",
    "# Callback function: remove rigid motion by realigning target rods with current rods\n",
    "def realign(intermediate_result):\n",
    "    global aligned_rods\n",
    "    try: # seems to depend on scipy version\n",
    "        tencer_opt.newPt(intermediate_result.x)\n",
    "    except:\n",
    "        tencer_opt.newPt(intermediate_result)\n",
    "    aligned_rods = target_registration(tencer,aligned_rods)\n",
    "    tencer_opt.update_target_rods([],aligned_rods,radii_array)"
   ]
  },
  {
   "cell_type": "code",
   "execution_count": null,
   "id": "03e36883-fcaa-4501-af30-9183624752a7",
   "metadata": {},
   "outputs": [],
   "source": [
    "# Sparsification weights - start with outer cables\n",
    "# Start with 0: optimize shape before sparsifying\n",
    "for weight in [0,1,10,1e2,1e3,1e4,1e5]:\n",
    "\n",
    "    sparsification_weights = [weight]*tencer.numRestVars()\n",
    "\n",
    "    # Define symmetry change of variable matrix\n",
    "    ns = len(tencer.getSprings())\n",
    "    symmetry_mat = TripletMatrix(ns,int(ns/3))\n",
    "    for i in range(ns):\n",
    "        symmetry_mat.addNZ(i,int(i/3),1)\n",
    "    symmetry_mat = SuiteSparseMatrix(symmetry_mat)\n",
    "\n",
    "    # Define optimization object\n",
    "    tencer_opt = TencerOptimizationSymmetries(symmetry_groups = symmetry_mat,\n",
    "                                          tencer=tencer,\n",
    "                                          Newton_optimizer_options=opt_opts,\n",
    "                                          fixed_vars=fixed_vars,\n",
    "                                          open_target_rod=[],\n",
    "                                          closed_target_rod=[aligned_rod],\n",
    "                                          radii=radii_array,\n",
    "                                          sparsification_weights = sparsification_weights,\n",
    "                                          hessian_shift=1e-6)\n",
    "\n",
    "    bound_constraints = Bounds(lb=np.zeros(len(tencer_opt.params())), keep_feasible=[True] * len(tencer_opt.params()))\n",
    "\n",
    "    # Optimize\n",
    "    t_sparsification1 = time.time()\n",
    "    res = minimize(fun=tencer_opt.J,\n",
    "                   x0=tencer_opt.params(),\n",
    "                   jac=tencer_opt.gradp_J,\n",
    "                   method=algorithm,\n",
    "                   callback=realign,\n",
    "                   bounds=bound_constraints,\n",
    "                   options=design_optimization_options)\n",
    "    t_sparsification2 = time.time()\n",
    "\n",
    "    # Remove springs with zero stiffness\n",
    "    tencer = remove_zero_springs(tencer)\n",
    "\n",
    "    print(\"Running time: \", t_sparsification2 - t_sparsification1)\n",
    "    print(\"Remaining springs: \", tencer.numRestVars())"
   ]
  },
  {
   "cell_type": "code",
   "execution_count": null,
   "id": "93c1e99e-ab71-4553-bcef-6045a7fca2db",
   "metadata": {},
   "outputs": [],
   "source": [
    "# Visualize results\n",
    "print(\"Number of remaining springs:\",len(tencer.getSprings()))\n",
    "viewer_sp = HybridViewer([tencer],wireframe=True)\n",
    "v_sp = Viewer(aligned_rods[0], superView=viewer_sp)\n",
    "viewer_sp.show()"
   ]
  },
  {
   "cell_type": "code",
   "execution_count": null,
   "id": "d29bfca7-000e-440f-b3ad-8b9e65c98f27",
   "metadata": {},
   "outputs": [],
   "source": [
    "# Save state for potential future use\n",
    "# save_state(tencer,\"data/trefoil_hypotrochoid_sparse_scipy.pkl\")"
   ]
  },
  {
   "cell_type": "markdown",
   "id": "6e832e8a-7bbc-499a-8d3c-f787f4d85236",
   "metadata": {},
   "source": [
    "# Optimize with sliding nodes"
   ]
  },
  {
   "cell_type": "code",
   "execution_count": null,
   "id": "8ca7c4c8-fc77-429b-aec7-021d6d47345f",
   "metadata": {},
   "outputs": [],
   "source": [
    "# Load state if needed\n",
    "# tencer = load_state(\"data/trefoil_hypotrochoid_sparse_scipy.pkl\")"
   ]
  },
  {
   "cell_type": "code",
   "execution_count": null,
   "id": "4cde17b0-145b-4223-87d6-507d0143a664",
   "metadata": {},
   "outputs": [],
   "source": [
    "# Rigid registration\n",
    "aligned_rods = target_registration(tencer,aligned_rods)"
   ]
  },
  {
   "cell_type": "code",
   "execution_count": null,
   "id": "63852db7-a13f-4041-b9ef-00725a2fda3a",
   "metadata": {},
   "outputs": [],
   "source": [
    "# Equilibrium options used in the inner loop\n",
    "opt_opts = NewtonOptimizerOptions()\n",
    "opt_opts.useNegativeCurvatureDirection = True\n",
    "opt_opts.niter = 1000\n",
    "opt_opts.gradTol = 1e-5\n",
    "opt_opts.verbose = 0\n",
    "opt_opts.hessianScaledBeta = False\n",
    "fixed_vars = [rod.thetaOffset()]\n",
    "\n",
    "# This allows to provide weights to better approximate some areas of the target rod\n",
    "# In the paper we only used uniform weights\n",
    "radii_array = [np.ones(rod.numVertices())]\n",
    "\n",
    "# Here we are optimizing over the springs' positions: the rest variables type must be set to StiffnessAndSpringAnchors\n",
    "tencer.setRestVarsType(RestVarsType.StiffnessAndSpringAnchors)\n",
    "\n",
    "# Scipy optimization algorithm\n",
    "algorithm = 'L-BFGS-B'\n",
    "design_optimization_options = {'disp': True, 'maxiter':500, 'ftol': 1e-10}\n",
    "\n",
    "# Callback function: remove rigid motion by realigning target rods with current rods\n",
    "def realign(intermediate_result):\n",
    "    global aligned_rods\n",
    "    try: # seems to depend on scipy version\n",
    "        tencer_opt.newPt(intermediate_result.x)\n",
    "    except:\n",
    "        tencer_opt.newPt(intermediate_result)\n",
    "    aligned_rods = target_registration(tencer,aligned_rods)\n",
    "    tencer_opt.update_target_rods([],aligned_rods,radii_array)"
   ]
  },
  {
   "cell_type": "code",
   "execution_count": null,
   "id": "5813c2dd-4816-4402-84b1-782306628bc7",
   "metadata": {},
   "outputs": [],
   "source": [
    "# Define symmetries for spring stiffnesses and cable positions\n",
    "L = rod.restLength()/3\n",
    "\n",
    "# Define symmetry change of variable matrix\n",
    "ns = len(tencer.getSprings())\n",
    "symmetry_mat = TripletMatrix(3*ns,ns)\n",
    "for i in range(ns):\n",
    "    symmetry_mat.addNZ(i,int(i/3),1)\n",
    "for i in range(ns,3*ns):\n",
    "    symmetry_mat.addNZ(i,int(ns/3) + int((i-ns)/6) * 2 + (i%2),1)\n",
    "symmetry_mat = SuiteSparseMatrix(symmetry_mat)\n",
    "\n",
    "# Length offsets\n",
    "length_offsets = np.zeros(3*ns)\n",
    "l = np.zeros(2*ns)\n",
    "rv = tencer.getRestVars()[ns:] - L\n",
    "l[rv > -1e-6] += L\n",
    "rv -= L\n",
    "l[rv > -1e-6] += L\n",
    "length_offsets[ns:] = l"
   ]
  },
  {
   "cell_type": "code",
   "execution_count": null,
   "id": "1ab8a443-b845-492a-977d-62d4e9dff98f",
   "metadata": {
    "tags": []
   },
   "outputs": [],
   "source": [
    "# Define optimization object\n",
    "tencer_opt = TencerOptimizationSymmetries(symmetry_groups = symmetry_mat,\n",
    "                                        tencer=tencer,\n",
    "                                        Newton_optimizer_options=opt_opts,\n",
    "                                        fixed_vars=fixed_vars,\n",
    "                                        open_target_rod=[],\n",
    "                                        closed_target_rod=[aligned_rod],\n",
    "                                        radii=radii_array,\n",
    "                                        length_offset = length_offsets,\n",
    "                                        hessian_shift=1e-6)\n",
    "\n",
    "bound_constraints = Bounds(lb=tencer_opt.getVarsLowerBounds(), ub = tencer_opt.getVarsUpperBounds(), keep_feasible=[True] * len(tencer_opt.params()))\n",
    "\n",
    "# Optimize\n",
    "t_opti1 = time.time()\n",
    "res = minimize(fun=tencer_opt.J,\n",
    "               x0=tencer_opt.params(),\n",
    "               jac=tencer_opt.gradp_J,\n",
    "               method=algorithm,\n",
    "               callback=realign,\n",
    "               bounds=bound_constraints,\n",
    "               options=design_optimization_options)\n",
    "t_opti2 = time.time()\n",
    "print(\"Running time: \", t_opti2 - t_opti1)"
   ]
  },
  {
   "cell_type": "code",
   "execution_count": null,
   "id": "09276c3a-2002-42b2-a8ea-0fe433342fb2",
   "metadata": {},
   "outputs": [],
   "source": [
    "viewer_sn = HybridViewer([tencer],wireframe=True)\n",
    "v_sn = Viewer(aligned_rod, superView=viewer_sn)\n",
    "viewer_sn.show()"
   ]
  },
  {
   "cell_type": "code",
   "execution_count": null,
   "id": "2c57843b-08cc-4ed0-a462-09c551ab65de",
   "metadata": {},
   "outputs": [],
   "source": [
    "# Save result to obj\n",
    "output_dir = \"output\"\n",
    "os.makedirs(output_dir, exist_ok=True)\n",
    "export_knot_to_obj(f\"{output_dir}/trefoil_hypotrochoid_final_scipy\", tencer)"
   ]
  },
  {
   "cell_type": "code",
   "execution_count": null,
   "id": "aa56e1ad-406c-4224-89df-a916085ba1a9",
   "metadata": {},
   "outputs": [],
   "source": []
  }
 ],
 "metadata": {
  "kernelspec": {
   "display_name": "Python 3",
   "language": "python",
   "name": "python3"
  },
  "language_info": {
   "codemirror_mode": {
    "name": "ipython",
    "version": 3
   },
   "file_extension": ".py",
   "mimetype": "text/x-python",
   "name": "python",
   "nbconvert_exporter": "python",
   "pygments_lexer": "ipython3",
   "version": "3.9.18"
  }
 },
 "nbformat": 4,
 "nbformat_minor": 5
}
