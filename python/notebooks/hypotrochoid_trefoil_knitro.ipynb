{
 "cells": [
  {
   "cell_type": "code",
   "execution_count": null,
   "id": "586e5bc5-d743-4d44-b000-80df0de30827",
   "metadata": {},
   "outputs": [],
   "source": [
    "import sys; sys.path.append(\"..\")\n",
    "import IPython\n",
    "if (ipy:= IPython.get_ipython()) is not None:\n",
    "    ipy.run_line_magic(\"load_ext\", \"autoreload\")\n",
    "    ipy.run_line_magic(\"autoreload\", \"2\")\n",
    "import numpy as np\n",
    "import time, os\n",
    "\n",
    "import ElasticRods\n",
    "import elastic_rods\n",
    "from elastic_rods import PeriodicRod, RodMaterial\n",
    "from linkage_vis import LinkageViewer as Viewer\n",
    "\n",
    "from py_newton_optimizer import NewtonOptimizerOptions\n",
    "import compute_vibrational_modes\n",
    "from sparse_matrices import SuiteSparseMatrix, TripletMatrix\n",
    "\n",
    "from tencers import *\n",
    "\n",
    "from Tencers.viewers import HybridViewer\n",
    "from Tencers.springs import *\n",
    "from Tencers.state_saver import save_state, load_state\n",
    "from Tencers.rods_IO import *\n",
    "from Tencers.init import *\n",
    "\n",
    "# In case knitro throws an error\n",
    "# os.environ['KMP_DUPLICATE_LIB_OK'] = 'True'"
   ]
  },
  {
   "cell_type": "markdown",
   "id": "dec17eef",
   "metadata": {},
   "source": [
    "This notebook runs an inverse design optimization algorithm to find the cables that allow to approximate a hypotrochoid trefoil knot."
   ]
  },
  {
   "cell_type": "markdown",
   "id": "70552f84-0037-49c8-a094-fee67f1352a0",
   "metadata": {
    "tags": []
   },
   "source": [
    "# Define target rods"
   ]
  },
  {
   "cell_type": "code",
   "execution_count": null,
   "id": "13e18926-b47c-4956-b987-fc352c6a74f7",
   "metadata": {
    "tags": []
   },
   "outputs": [],
   "source": [
    "# Create target rod: hypotrochoid trefoil\n",
    "\n",
    "n_divisions = 103\n",
    "\n",
    "t = np.linspace(0,2*np.pi,n_divisions,endpoint=True)\n",
    "t = np.concatenate([t, [t[1]]])  # last and first edge overlap\n",
    "x = np.sin(t) + 2 * np.sin(2*t)\n",
    "y = np.cos(t) - 2 * np.cos(2*t)\n",
    "z = -np.sin(3*t)\n",
    "\n",
    "rod_points = np.column_stack([x, y, z]) * 3.47 * 2\n",
    "\n",
    "rod = PeriodicRod(rod_points, zeroRestCurvature=True)\n",
    "rod_youngs_modulus = 13300\n",
    "material = RodMaterial('ellipse', rod_youngs_modulus, 0.5, [0.1, 0.1])  \n",
    "rod.setMaterial(material)\n",
    "minimize_twist(rod)\n",
    "\n",
    "\n",
    "print(\"Number of vertices: \", rod.numVertices())\n",
    "print(\"Rod length: \", rod.restLength(), \"cm\")\n",
    "print(\"Rod thickness: \", rod.rod.material(0).crossSectionHeight, \"cm\")\n",
    "print(\"Rod Young modulus: \", rod_youngs_modulus, \"MPa\")\n",
    "\n",
    "viewer1 = Viewer(rod, 400,300, wireframe=True)\n",
    "viewer1.show()"
   ]
  },
  {
   "cell_type": "code",
   "execution_count": null,
   "id": "2f7ed930-c0a9-470a-ae18-0637f244006a",
   "metadata": {},
   "outputs": [],
   "source": [
    "open_rods = []\n",
    "closed_rods = [rod]\n",
    "rods = [rod]\n",
    "target_rods = [rod.rod]"
   ]
  },
  {
   "cell_type": "markdown",
   "id": "0c4bb0b7-79b8-4aa7-a271-adfb7e009c86",
   "metadata": {
    "tags": []
   },
   "source": [
    "# Cable initialization: remove compressed springs"
   ]
  },
  {
   "cell_type": "code",
   "execution_count": null,
   "id": "8880f00a-3c8c-47d0-8733-77274eece2f4",
   "metadata": {},
   "outputs": [],
   "source": [
    "# Initialize springs\n",
    "springs = []\n",
    "attachment_vertices = []\n",
    "init_stiffness = compute_initial_stiffness_pr(rod)\n",
    "print(\"Initial spring stiffness: \", init_stiffness)\n",
    "\n",
    "# Dense network of springs\n",
    "for i in range(rod.numVertices()):\n",
    "    for j in range(i+2,rod.numVertices()):\n",
    "        if i == 0 and j == rod.numVertices() - 1:\n",
    "            continue\n",
    "        attachment_vertices.append(SpringAttachmentVertices(0,i,0,j))\n",
    "        coordA = rod.deformedPoints()[i]\n",
    "        coordB = rod.deformedPoints()[j]\n",
    "        dist = np.linalg.norm(coordB-coordA)\n",
    "        springs.append(Spring(coordA,coordB,init_stiffness,dist))\n",
    "        if dist < 1e-6: # Make sure data is not corrupted and that no 2 points are at distance 0\n",
    "            raise Exception(\"Error 2: intra-rod spring of length 0\")\n",
    "\n",
    "# Create initial tencer\n",
    "tencer = Tencer([],[rod],springs,attachment_vertices, [rod.rod])"
   ]
  },
  {
   "cell_type": "code",
   "execution_count": null,
   "id": "bf054b1e-109f-4824-b62c-9a819ed0849c",
   "metadata": {},
   "outputs": [],
   "source": [
    "# Optimizer options (equilibrium)\n",
    "opt = NewtonOptimizerOptions()\n",
    "opt.useNegativeCurvatureDirection = True\n",
    "opt.niter = 1000\n",
    "opt.verbose = 0\n",
    "opt.hessianScaledBeta = False\n",
    "fixed_vars = [] "
   ]
  },
  {
   "cell_type": "code",
   "execution_count": null,
   "id": "5a38a0ee-6dc3-46b2-ad1b-2c27c10c3c57",
   "metadata": {
    "tags": []
   },
   "outputs": [],
   "source": [
    "# Initialization: remove all compressed springs\n",
    "t_init1 = time.time()\n",
    "tencer = remove_compressed_springs(tencer,fixed_vars,opt)\n",
    "t_init2 = time.time()\n",
    "print(\"total time: \", t_init2 - t_init1)"
   ]
  },
  {
   "cell_type": "code",
   "execution_count": null,
   "id": "0d8d1f3b-3f95-4496-a821-9b44d1cc5a65",
   "metadata": {
    "tags": []
   },
   "outputs": [],
   "source": [
    "# Rigid registration of the target for visualization purposes\n",
    "aligned_rods = target_registration(tencer,[rod])\n",
    "\n",
    "# Visualization\n",
    "print(\"Number of springs: \",tencer.numRestVars())\n",
    "viewer_init = HybridViewer([tencer],wireframe=True)\n",
    "v_init = Viewer(aligned_rods[0], superView=viewer_init)\n",
    "viewer_init.show()"
   ]
  },
  {
   "cell_type": "code",
   "execution_count": null,
   "id": "971c6c17-1710-4f87-b4a4-a4236458af94",
   "metadata": {},
   "outputs": [],
   "source": [
    "# Save state for potential future use\n",
    "# save_state(tencer,\"data/trefoil_hypotrochoid_init.pkl\")"
   ]
  },
  {
   "cell_type": "markdown",
   "id": "dffd6645-400d-4462-996b-e6726c103779",
   "metadata": {
    "tags": []
   },
   "source": [
    "# Greedy decimation: remove springs with lowest force"
   ]
  },
  {
   "cell_type": "code",
   "execution_count": null,
   "id": "4f74a646-7abd-41bd-aaf9-bfda2717a499",
   "metadata": {},
   "outputs": [],
   "source": [
    "# Load state if needed\n",
    "# tencer = load_state(\"data/trefoil_hypotrochoid_init.pkl\")"
   ]
  },
  {
   "cell_type": "code",
   "execution_count": null,
   "id": "d44e25b6-f33d-4b3e-8192-f0372392fd0c",
   "metadata": {},
   "outputs": [],
   "source": [
    "# Rigid registration: align target\n",
    "aligned_rods = target_registration(tencer,aligned_rods)"
   ]
  },
  {
   "cell_type": "code",
   "execution_count": null,
   "id": "861b2c78-5977-4efb-822c-0e6ff6df7eae",
   "metadata": {},
   "outputs": [],
   "source": [
    "# Optimizer options\n",
    "opt = NewtonOptimizerOptions()\n",
    "opt.useNegativeCurvatureDirection = True\n",
    "opt.niter = 1000\n",
    "opt.gradTol = compute_grad_tol(tencer)\n",
    "opt.verbose = 0\n",
    "opt.hessianScaledBeta = False\n",
    "fixed_vars = []"
   ]
  },
  {
   "cell_type": "code",
   "execution_count": null,
   "id": "999caa37-ecde-42f3-9f27-661f1d079874",
   "metadata": {
    "tags": []
   },
   "outputs": [],
   "source": [
    "t_greedy1 = time.time()\n",
    "\n",
    "# Set disance threshold\n",
    "distance_threshold = 5e-6\n",
    "\n",
    "# Greedy decimation step\n",
    "tencer,aligned_rods = greedy_decimation_step(tencer,aligned_rods, target_registration, opt, fixed_vars,distance_threshold=distance_threshold)\n",
    "\n",
    "t_greedy_2 = time.time()"
   ]
  },
  {
   "cell_type": "code",
   "execution_count": null,
   "id": "848db21a-e424-4386-9c86-138d3772ecc8",
   "metadata": {},
   "outputs": [],
   "source": [
    "distance = distance_to_target(tencer,aligned_rods)\n",
    "print(\"Distance: \", distance)\n",
    "print(\"Number of springs: \", tencer.numRestVars())\n",
    "print(\"Greedy decimation running time: \", t_greedy_2 - t_greedy1)"
   ]
  },
  {
   "cell_type": "code",
   "execution_count": null,
   "id": "2c547d37-ca93-4b17-b8d5-f626c00c1dac",
   "metadata": {},
   "outputs": [],
   "source": [
    "# Visualization\n",
    "viewer_greedy = HybridViewer([tencer],wireframe=True)\n",
    "v_greedy = Viewer(aligned_rods[0], superView=viewer_greedy)\n",
    "viewer_greedy.show()"
   ]
  },
  {
   "cell_type": "code",
   "execution_count": null,
   "id": "19bec351-0e7d-4c46-8abf-3ceccc888b4f",
   "metadata": {},
   "outputs": [],
   "source": [
    "# Save state for potential future use\n",
    "# save_state(tencer, \"data/trefoil_hypotrochoid_greedy.pkl\")"
   ]
  },
  {
   "cell_type": "markdown",
   "id": "b67ce80e-9bf6-4e5f-a836-bdcc1783bacb",
   "metadata": {
    "tags": []
   },
   "source": [
    "# Define symmetries (for optimization)"
   ]
  },
  {
   "cell_type": "code",
   "execution_count": null,
   "id": "ea77adb9-352b-418f-994d-58b5c8fab90d",
   "metadata": {},
   "outputs": [],
   "source": [
    "# Load state if needed\n",
    "# tencer = load_state(\"data/trefoil_hypotrochoid_greedy.pkl\")"
   ]
  },
  {
   "cell_type": "code",
   "execution_count": null,
   "id": "ab10718a-39fb-456d-a91f-80e29372cbed",
   "metadata": {},
   "outputs": [],
   "source": [
    "# Find symmetric springs for a hypotrochoic trefoil with a 3-fold symmetry\n",
    "\n",
    "def add_symmetric_springs(attachment_vertices, springs, num_vertices):\n",
    "    \n",
    "    symmetry_type = 3\n",
    "    k = num_vertices / symmetry_type\n",
    "    \n",
    "    num_springs = len(attachment_vertices)\n",
    "    spring_used = [False] * num_springs\n",
    "    new_attachment_vertices = [] \n",
    "    new_springs = [] \n",
    "    \n",
    "    for i in range(num_springs):\n",
    "        if not spring_used[i]:\n",
    "            \n",
    "            # Get spring anchor points\n",
    "            vA = attachment_vertices[i].vertexA\n",
    "            vB = attachment_vertices[i].vertexB\n",
    "            \n",
    "            \n",
    "            # Add this spring to the list\n",
    "            new_attachment_vertices.append([0,vA,0,vB])\n",
    "            stiffness = springs[i].stiffness \n",
    "            rest_length = springs[i].get_rest_length()\n",
    "            new_springs.append(Spring(np.zeros(3),np.ones(3),stiffness,rest_length))\n",
    "            \n",
    "            # Get symmetric springs\n",
    "            for m in range(symmetry_type-1):\n",
    "                vS0 = int((vA + (m+1)*k)) % num_vertices\n",
    "                vS1 = int((vB + (m+1)*k)) % num_vertices  \n",
    "            \n",
    "                # Add symmetric spring to the list\n",
    "                new_attachment_vertices.append([0,vS0,0,vS1])\n",
    "                new_springs.append(Spring(np.zeros(3),np.ones(3),stiffness,rest_length))\n",
    "\n",
    "                # If the symmetric spring is in the list, mark it as used\n",
    "                for j in range(i+1, num_springs):\n",
    "                    vA_j = attachment_vertices[j].vertexA\n",
    "                    vB_j = attachment_vertices[j].vertexB\n",
    "                    if vA_j == vS0 and vB_j == vS1:\n",
    "                        spring_used[j] = True\n",
    "                    if vA_j == vS1 and vB_j == vS0:\n",
    "                        spring_used[j] = True\n",
    "                        \n",
    "    symmetries = np.arange(len(new_springs)).reshape(-1,symmetry_type)\n",
    "    a_v = []\n",
    "    for x in new_attachment_vertices:\n",
    "        a_v.append(SpringAttachmentVertices(x[0],x[1],x[2],x[3]))\n",
    "        \n",
    "    return new_springs,a_v,symmetries"
   ]
  },
  {
   "cell_type": "code",
   "execution_count": null,
   "id": "d93648cd-25fc-437d-b86f-68b8747e5b1a",
   "metadata": {},
   "outputs": [],
   "source": [
    "# Add symmetric springs\n",
    "new_s,new_a,symmetries=add_symmetric_springs(tencer.getAttachmentVertices(),tencer.getSprings(), rod.numVertices())\n",
    "tencer = Tencer([],tencer.getClosedRods(),new_s,new_a,target_rods)"
   ]
  },
  {
   "cell_type": "code",
   "execution_count": null,
   "id": "29d08a47-3ec8-4206-adcf-9d15367a5fe6",
   "metadata": {},
   "outputs": [],
   "source": [
    "# Compute equilibrium\n",
    "opt = NewtonOptimizerOptions()\n",
    "opt.useNegativeCurvatureDirection = True\n",
    "opt.niter = 100\n",
    "opt.gradTol = compute_grad_tol(tencer)\n",
    "opt.verbose = 1\n",
    "fixed_vars = [rod.thetaOffset()]\n",
    "c = computeEquilibrium(tencer,fixedVars=fixed_vars, opts=opt, hessianShift = 1e-8)"
   ]
  },
  {
   "cell_type": "code",
   "execution_count": null,
   "id": "8c517858-2935-4c71-92c9-c8d74dd0f9f8",
   "metadata": {},
   "outputs": [],
   "source": [
    "# Check for compressed springs\n",
    "v = tencer.getRestVars()\n",
    "s = np.array(tencer.getSprings())\n",
    "tensionned_springs = []\n",
    "compressed_springs = []\n",
    "for i,spring in enumerate(s):\n",
    "    spring_length = np.linalg.norm(spring.get_coords()[:3] - spring.get_coords()[3:])\n",
    "    spring_rest_length = spring.get_rest_length()\n",
    "    if spring_length < spring_rest_length:\n",
    "        compressed_springs.append(i)\n",
    "    else: \n",
    "        tensionned_springs.append(i)\n",
    "compressed_springs"
   ]
  },
  {
   "cell_type": "code",
   "execution_count": null,
   "id": "01e46c89-e7a6-4ec3-8c38-2abeeda8dceb",
   "metadata": {},
   "outputs": [],
   "source": [
    "print(\"Number of springs: \", len(tencer.getSprings()))"
   ]
  },
  {
   "cell_type": "code",
   "execution_count": null,
   "id": "bf46bd97-f076-4cd2-86f4-682c238a21b4",
   "metadata": {},
   "outputs": [],
   "source": [
    "# save_state(tencer, \"data/trefoil_hypotrochoid_symmetries.pkl\")"
   ]
  },
  {
   "cell_type": "markdown",
   "id": "bf7457a3-1b8d-4be6-85f2-47f70711f4a9",
   "metadata": {
    "tags": []
   },
   "source": [
    "# Replace cables with zero-rest length springs"
   ]
  },
  {
   "cell_type": "code",
   "execution_count": null,
   "id": "57b104a1-c690-4da3-b9f7-753a860e6cef",
   "metadata": {},
   "outputs": [],
   "source": [
    "# Load state if needed\n",
    "# tencer = load_state(\"data/trefoil_hypotrochoid_symmetries.pkl\")"
   ]
  },
  {
   "cell_type": "code",
   "execution_count": null,
   "id": "8db71a2e-4305-49bc-a825-28961c1a952d",
   "metadata": {},
   "outputs": [],
   "source": [
    "# Set equilibrium options\n",
    "opt = NewtonOptimizerOptions()\n",
    "opt.useNegativeCurvatureDirection = True\n",
    "opt.niter = 100\n",
    "opt.gradTol = compute_grad_tol(tencer)\n",
    "opt.verbose = 0\n",
    "fixed_vars = [rod.thetaOffset()]"
   ]
  },
  {
   "cell_type": "code",
   "execution_count": null,
   "id": "caa7a550-ec49-4ffe-ae0b-734387f6cb6b",
   "metadata": {},
   "outputs": [],
   "source": [
    "# Get current springs' rest lengths\n",
    "rest_lengths = []\n",
    "for spring in tencer.getSprings():\n",
    "    rest_lengths.append(spring.get_rest_length())"
   ]
  },
  {
   "cell_type": "code",
   "execution_count": null,
   "id": "429f85fe-affa-4089-8c74-9d0310112ddc",
   "metadata": {},
   "outputs": [],
   "source": [
    "# Try reducing rest lengths while keeping the equilibrium stable\n",
    "t_replace_springs1 = time.time()\n",
    "for x in np.linspace(0,1,100):\n",
    "    new_springs = replace_springs_with_rest_length(tencer.getSprings(),np.array(rest_lengths)*x)\n",
    "    tencer1 = Tencer([],tencer.getClosedRods(),new_springs,tencer.getAttachmentVertices(),tencer.getTargetRods())\n",
    "    lambdas, modes = compute_vibrational_modes.compute_vibrational_modes(tencer1, fixedVars=fixed_vars, mtype=compute_vibrational_modes.MassMatrixType.FULL, n=16, sigma=-1e-6)\n",
    "    if lambdas[0]>-1e-10:\n",
    "        x_opti = x\n",
    "        print(\"New springs' rest length:\",x)\n",
    "        break \n",
    "t_replace_springs2 = time.time()\n",
    "print(\"Running time: \", t_replace_springs2 - t_replace_springs1)"
   ]
  },
  {
   "cell_type": "code",
   "execution_count": null,
   "id": "e466ad38-a5cc-4d8d-8d08-7847f05b18a2",
   "metadata": {},
   "outputs": [],
   "source": [
    "# Create a new tencer with the new rest lengths\n",
    "new_springs = replace_springs_with_rest_length(tencer.getSprings(),np.array(rest_lengths)*x_opti)\n",
    "tencer = Tencer([],tencer.getClosedRods(),new_springs,tencer.getAttachmentVertices(),tencer.getTargetRods())"
   ]
  },
  {
   "cell_type": "code",
   "execution_count": null,
   "id": "46ec7f68-f0b1-453b-b388-477f7d35461f",
   "metadata": {},
   "outputs": [],
   "source": [
    "# save_state(tencer,\"data/trefoil_hypotrochoid_replace_springs.pkl\")"
   ]
  },
  {
   "cell_type": "code",
   "execution_count": null,
   "id": "b34673cc-395e-4835-b296-1177cd9eb971",
   "metadata": {},
   "outputs": [],
   "source": [
    "# Visualize tencer\n",
    "print(\"Number of springs: \",tencer.numRestVars())\n",
    "viewer_rep = HybridViewer([tencer],wireframe=True)\n",
    "v_rep = Viewer(aligned_rods[0], superView=viewer_rep)\n",
    "viewer_rep.show()"
   ]
  },
  {
   "cell_type": "markdown",
   "id": "d2e17c7e-8c55-4d91-81c7-45c027cd1965",
   "metadata": {
    "tags": []
   },
   "source": [
    "# Spring sparsification"
   ]
  },
  {
   "cell_type": "code",
   "execution_count": null,
   "id": "cf1fb282-c76b-4f99-90e9-4089d4c10b05",
   "metadata": {},
   "outputs": [],
   "source": [
    "# Load state if needed\n",
    "# tencer = load_state(\"data/trefoil_hypotrochoid_replace_springs.pkl\")"
   ]
  },
  {
   "cell_type": "code",
   "execution_count": null,
   "id": "dba5b5ba-9be1-4223-be8b-4d569f346cbb",
   "metadata": {},
   "outputs": [],
   "source": [
    "# Rigid registration\n",
    "aligned_rods = target_registration(tencer,aligned_rods)"
   ]
  },
  {
   "cell_type": "code",
   "execution_count": null,
   "id": "46fd817a-c4df-401d-9f6f-b74fddee3548",
   "metadata": {},
   "outputs": [],
   "source": [
    "# Equilibrium options\n",
    "opt_opts = NewtonOptimizerOptions()\n",
    "opt_opts.useNegativeCurvatureDirection = True\n",
    "opt_opts.niter = 1000\n",
    "opt_opts.gradTol = 1e-5\n",
    "opt_opts.verbose = 0\n",
    "opt_opts.hessianScaledBeta = False\n",
    "fixed_vars = [rod.thetaOffset()]\n",
    "\n",
    "# This can be used to give a higher weight to some of the curve areas for target approximation\n",
    "# Here we use a uniform weight\n",
    "radii_array = [np.ones(rod.numVertices())]\n",
    "\n",
    "# Optimization algorithm\n",
    "algorithm = OptAlgorithm.NEWTON_CG\n",
    "\n",
    "# Function to realign target curves with current tencer\n",
    "def realign():\n",
    "    aligned_rods = target_registration(tencer,aligned_rods)\n",
    "    tencer_opt.update_target_rods([],aligned_rods,radii_array)"
   ]
  },
  {
   "cell_type": "code",
   "execution_count": null,
   "id": "48206993-aee3-4a95-bf75-da2fb15b628d",
   "metadata": {},
   "outputs": [],
   "source": [
    "# Sparsification weights - start with outer cables\n",
    "# Start with 0: optimize shape before sparsifying\n",
    "for weight in [0,1,10,1e2,1e3,1e4]:\n",
    "\n",
    "    sparsification_weights = [weight]*tencer.numRestVars()\n",
    "\n",
    "    # Define symmetry change of variable matrix\n",
    "    ns = len(tencer.getSprings())\n",
    "    symmetry_mat = TripletMatrix(ns,int(ns/3))\n",
    "    for i in range(ns):\n",
    "        symmetry_mat.addNZ(i,int(i/3),1)\n",
    "    symmetry_mat = SuiteSparseMatrix(symmetry_mat)\n",
    "\n",
    "    # Optimization object\n",
    "    tencer_opt = TencerOptimizationSymmetries(symmetry_groups = symmetry_mat,\n",
    "                                      tencer=tencer,\n",
    "                                      Newton_optimizer_options=opt_opts,\n",
    "                                      fixed_vars=fixed_vars,\n",
    "                                      open_target_rod=[],\n",
    "                                      closed_target_rod=aligned_rods,\n",
    "                                      radii=radii_array,\n",
    "                                      sparsification_weights = sparsification_weights,\n",
    "                                      hessian_shift=1e-6)\n",
    "    # Run optimization\n",
    "    t_sparsification1 = time.time()\n",
    "    optimizeWithSymmetries(tencer_opt,algorithm,100,0.005, 1e-5,realign)\n",
    "    t_sparsification2 = time.time()\n",
    "\n",
    "    # Remove springs with zero stiffness\n",
    "    tencer = remove_zero_springs(tencer)\n",
    "\n",
    "    print(\"Running time: \", t_sparsification2 - t_sparsification1)\n",
    "    print(\"Remaining springs: \", tencer.numRestVars())\n"
   ]
  },
  {
   "cell_type": "code",
   "execution_count": null,
   "id": "50dfe3f2-44f4-4928-ae50-36638c033fbb",
   "metadata": {},
   "outputs": [],
   "source": [
    "# View result\n",
    "viewer_sp = HybridViewer([tencer],wireframe=True)\n",
    "v_sp = Viewer(aligned_rods[0], superView=viewer_sp)\n",
    "viewer_sp.show()"
   ]
  },
  {
   "cell_type": "code",
   "execution_count": null,
   "id": "67e927c3-e3ce-44ab-b14b-eb186b6339d5",
   "metadata": {},
   "outputs": [],
   "source": [
    "# save_state(tencer,\"data/trefoil_hypotrochoid_sparse.pkl\")"
   ]
  },
  {
   "cell_type": "markdown",
   "id": "584ada55-1aa2-42d3-a137-4b2805d6224a",
   "metadata": {
    "tags": []
   },
   "source": [
    "# Optimize with sliding nodes"
   ]
  },
  {
   "cell_type": "code",
   "execution_count": null,
   "id": "822b3020-ce75-45f4-8807-65fdde7ebb77",
   "metadata": {},
   "outputs": [],
   "source": [
    "# Load state if needed\n",
    "# tencer = load_state(\"data/trefoil_hypotrochoid_sparse.pkl\")"
   ]
  },
  {
   "cell_type": "code",
   "execution_count": null,
   "id": "de8e74bf-0c68-405d-9770-43d753bd9b42",
   "metadata": {},
   "outputs": [],
   "source": [
    "# Rigid registration\n",
    "aligned_rods = target_registration(tencer,aligned_rods)"
   ]
  },
  {
   "cell_type": "code",
   "execution_count": null,
   "id": "87377215-be30-4f68-844c-98cea74d5d96",
   "metadata": {},
   "outputs": [],
   "source": [
    "# Equilibrium options\n",
    "opt_opts = NewtonOptimizerOptions()\n",
    "opt_opts.useNegativeCurvatureDirection = True\n",
    "opt_opts.niter = 1000\n",
    "opt_opts.gradTol = 1e-5\n",
    "opt_opts.verbose = 0\n",
    "opt_opts.hessianScaledBeta = False\n",
    "fixed_vars = [rod.thetaOffset()]"
   ]
  },
  {
   "cell_type": "code",
   "execution_count": null,
   "id": "7cc4aa71-ec67-4ff3-b0cf-fc8b040a18f1",
   "metadata": {},
   "outputs": [],
   "source": [
    "# This can be used to give a higher weight to some of the curve areas for target approximation\n",
    "# Here we use a uniform weight\n",
    "radii_array = [np.ones(rod.numVertices())]\n",
    "\n",
    "# Optimization algorithm\n",
    "algorithm = OptAlgorithm.NEWTON_CG\n",
    "\n",
    "# Here we are optimizing over the springs' positions: the rest variables type must be set to StiffnessAndSpringAnchors\n",
    "tencer.setRestVarsType(RestVarsType.StiffnessAndSpringAnchors)\n",
    "\n",
    "# Function to align the target rods with the current tencer\n",
    "def realign():\n",
    "    aligned_rods = target_registration(tencer,aligned_rods)\n",
    "    tencer_opt.update_target_rods([],aligned_rods,radii_array)"
   ]
  },
  {
   "cell_type": "code",
   "execution_count": null,
   "id": "0bb38653-7502-4a9d-aa13-187c5af2fc24",
   "metadata": {},
   "outputs": [],
   "source": [
    "# Symmetries\n",
    "L = rod.restLength()/3\n",
    "\n",
    "# Define symmetry change of variable matrix\n",
    "ns = len(tencer.getSprings())\n",
    "symmetry_mat = TripletMatrix(3*ns,ns)\n",
    "for i in range(ns):\n",
    "    symmetry_mat.addNZ(i,int(i/3),1)\n",
    "for i in range(ns,3*ns):\n",
    "    symmetry_mat.addNZ(i,int(ns/3) + int((i-ns)/6) * 2 + (i%2),1)\n",
    "symmetry_mat = SuiteSparseMatrix(symmetry_mat)\n",
    "\n",
    "# Length offsets\n",
    "length_offsets = np.array([0,0,0,0,0,0,0,0,L,L,2*L,2*L,0,0,L,L,2*L,2*L])"
   ]
  },
  {
   "cell_type": "code",
   "execution_count": null,
   "id": "4f1554a2-fcce-4ea1-b968-c9c4e8c86b75",
   "metadata": {},
   "outputs": [],
   "source": [
    "# Optimization object\n",
    "tencer_opt = TencerOptimizationSymmetries(symmetry_groups = symmetry_mat,\n",
    "                                tencer=tencer,\n",
    "                                Newton_optimizer_options=opt_opts,\n",
    "                                fixed_vars=fixed_vars,\n",
    "                                open_target_rod=[],\n",
    "                                closed_target_rod=aligned_rods,\n",
    "                                radii=radii_array,\n",
    "                                length_offset = length_offsets,\n",
    "                                hessian_shift=1e-6)\n",
    "\n",
    "# Run optimization\n",
    "t_sn1 = time.time()\n",
    "optimizeWithSymmetries(tencer_opt,algorithm,500,0.005, 1e-5,realign)\n",
    "t_sn2 = time.time()\n",
    "\n",
    "print(\"Total time: \", t_sn2 - t_sn1)"
   ]
  },
  {
   "cell_type": "code",
   "execution_count": null,
   "id": "d22651a6-4e34-44a2-bdd5-11aa74756d3d",
   "metadata": {},
   "outputs": [],
   "source": [
    "# View result\n",
    "viewer_sn = HybridViewer([tencer],wireframe=True)\n",
    "v_sn = Viewer(aligned_rods[0], superView=viewer_sn)\n",
    "viewer_sn.show()"
   ]
  },
  {
   "cell_type": "code",
   "execution_count": null,
   "id": "d47fd07e-f283-4f74-a844-72e653055fd1",
   "metadata": {},
   "outputs": [],
   "source": [
    "# Save result to obj\n",
    "output_dir = \"output\"\n",
    "os.makedirs(output_dir, exist_ok=True)\n",
    "export_knot_to_obj(f\"{output_dir}/trefoil_hypotrochoid_final_knitro\", tencer)"
   ]
  }
 ],
 "metadata": {
  "kernelspec": {
   "display_name": "tencers",
   "language": "python",
   "name": "python3"
  },
  "language_info": {
   "codemirror_mode": {
    "name": "ipython",
    "version": 3
   },
   "file_extension": ".py",
   "mimetype": "text/x-python",
   "name": "python",
   "nbconvert_exporter": "python",
   "pygments_lexer": "ipython3",
   "version": "3.10.18"
  }
 },
 "nbformat": 4,
 "nbformat_minor": 5
}
