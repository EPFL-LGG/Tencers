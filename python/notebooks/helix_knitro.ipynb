{
 "cells": [
  {
   "cell_type": "code",
   "execution_count": null,
   "id": "ba9a1a45-142a-49e0-a5ea-d88ddd15b86d",
   "metadata": {},
   "outputs": [],
   "source": [
    "import sys; sys.path.append(\"..\")\n",
    "import IPython\n",
    "if (ipy:= IPython.get_ipython()) is not None:\n",
    "    ipy.run_line_magic(\"load_ext\", \"autoreload\")\n",
    "    ipy.run_line_magic(\"autoreload\", \"2\")\n",
    "import numpy as np\n",
    "from scipy.optimize import minimize, Bounds\n",
    "import time, os\n",
    "\n",
    "import ElasticRods\n",
    "import elastic_rods\n",
    "from elastic_rods import PeriodicRod, RodMaterial, EnergyType\n",
    "from linkage_vis import LinkageViewer as Viewer\n",
    "\n",
    "from py_newton_optimizer import NewtonOptimizerOptions\n",
    "import compute_vibrational_modes\n",
    "from sparse_matrices import SuiteSparseMatrix, TripletMatrix\n",
    "\n",
    "from tencers import *\n",
    "\n",
    "from Tencers.viewers import HybridViewer\n",
    "from Tencers.springs import *\n",
    "from Tencers.state_saver import save_state, load_state\n",
    "from Tencers.rods_IO import *\n",
    "from Tencers.init import *\n",
    "\n",
    "# In case knitro throws an error\n",
    "# os.environ['KMP_DUPLICATE_LIB_OK'] = 'True'"
   ]
  },
  {
   "cell_type": "markdown",
   "id": "ab092970-eedf-450a-8476-957a3c1f65bd",
   "metadata": {},
   "source": [
    "# Define target rod"
   ]
  },
  {
   "cell_type": "code",
   "execution_count": null,
   "id": "91706eac-4409-4ffb-a400-2d74fd46b403",
   "metadata": {},
   "outputs": [],
   "source": [
    "# Create target rod: helix\n",
    "\n",
    "n_divisions = 100\n",
    "\n",
    "t = np.linspace(0,3*np.pi,n_divisions,endpoint=True)\n",
    "\n",
    "x = np.cos(t)\n",
    "y = np.sin(t)\n",
    "z = np.arange(len(x)) * 0.02\n",
    "\n",
    "rod_points = np.column_stack([x, y, z]) * 10\n",
    "\n",
    "rod = ElasticRod(rod_points)\n",
    "\n",
    "rod_youngs_modulus = 133 # conversion to cm\n",
    "material = RodMaterial('ellipse', rod_youngs_modulus, 0.5, [0.1, 0.1])  \n",
    "rod.setMaterial(material)\n",
    "\n",
    "rod.setRestKappas(np.zeros_like(rod.restKappas()))\n",
    "\n",
    "print(\"Number of vertices: \", rod.numVertices())\n",
    "print(\"Rod length: \", rod.characteristicLength(), \"cm\")\n",
    "print(\"Rod thickness: \", rod.material(0).crossSectionHeight, \"cm\")\n",
    "print(\"Rod Young modulus: \", rod.material(0).youngModulus * 100, \"MPa\")\n",
    "\n",
    "# Create external frame\n",
    "P = [-2,-2,-1]\n",
    "Q = [-2,2,-1]\n",
    "R = [2,2,-1]\n",
    "S = [2,-2,-1]\n",
    "T = [2,-2,3]\n",
    "U = [2,2,3]\n",
    "V = [-2,2,3]\n",
    "W = [-2,-2,3]\n",
    "out_rod_points = np.array([P,Q,R,S,T,U,V,W])*10\n",
    "out_rod = ElasticRod(out_rod_points)\n",
    "out_rod.setMaterial(material)"
   ]
  },
  {
   "cell_type": "code",
   "execution_count": null,
   "id": "188f1477-bcab-4d2b-b5d1-0bc004835d7b",
   "metadata": {},
   "outputs": [],
   "source": [
    "open_rods = [out_rod,rod]\n",
    "closed_rods = []\n",
    "rods = [out_rod,rod]\n",
    "target_rods = [out_rod,rod]"
   ]
  },
  {
   "cell_type": "code",
   "execution_count": null,
   "id": "c339163c-840e-4c2e-a710-f9ce06139e31",
   "metadata": {},
   "outputs": [],
   "source": [
    "# Visualize target rod and external frame\n",
    "viewer1 = HybridViewer(target_rods, 400,300, wireframe=True)\n",
    "viewer1.show()"
   ]
  },
  {
   "cell_type": "markdown",
   "id": "dd5b632f-0131-41b1-89ad-58a3e477648e",
   "metadata": {
    "tags": []
   },
   "source": [
    "# Cable initialization: remove compressed springs"
   ]
  },
  {
   "cell_type": "code",
   "execution_count": null,
   "id": "060ce0e2-95b7-4141-8858-0c0c57ee34b4",
   "metadata": {},
   "outputs": [],
   "source": [
    "# Initialize springs\n",
    "springs = []\n",
    "attachment_vertices = []\n",
    "init_stiffness = compute_initial_stiffness_er(rod)\n",
    "print(\"Initial spring stiffness: \", init_stiffness)\n",
    "\n",
    "# Dense network of springs\n",
    "for i in range(rod.numVertices()):\n",
    "    for j in range(i+2,rod.numVertices()):\n",
    "        attachment_vertices.append(SpringAttachmentVertices(1,i,1,j))\n",
    "        coordA = rod.deformedPoints()[i]\n",
    "        coordB = rod.deformedPoints()[j]\n",
    "        dist = np.linalg.norm(coordB-coordA)\n",
    "        springs.append(Spring(coordA,coordB,init_stiffness,dist))\n",
    "        if dist < 1e-6: # Make sure data is not corrupted and that no 2 points are at distance 0\n",
    "            raise Exception(\"Error 2: intra-rod spring of length 0\")\n",
    "\n",
    "# Springs between rod and external frame            \n",
    "for i in range(rod.numVertices()):\n",
    "    for j in range(8):\n",
    "        attachment_vertices.append(SpringAttachmentVertices(1,i,0,j))\n",
    "        coordA = rod.deformedPoints()[i]\n",
    "        coordB = out_rod.deformedPoints()[j]\n",
    "        dist = np.linalg.norm(coordB-coordA)\n",
    "        springs.append(Spring(coordA,coordB,init_stiffness,dist))\n",
    "\n",
    "tencer = Tencer(open_rods,closed_rods,springs,attachment_vertices,target_rods)"
   ]
  },
  {
   "cell_type": "code",
   "execution_count": null,
   "id": "b1928399-f18f-435a-ab2f-1143641a8659",
   "metadata": {},
   "outputs": [],
   "source": [
    "# Optimizer options (equilibrium)\n",
    "opt = NewtonOptimizerOptions()\n",
    "opt.useNegativeCurvatureDirection = True\n",
    "opt.niter = 1000\n",
    "opt.hessianScaledBeta = False\n",
    "opt.verbose = 1\n",
    "\n",
    "# Fixed variables: rod endpoints and external frame\n",
    "rod_offset = out_rod.numDoF()\n",
    "last_var = rod_offset + rod.thetaOffset() - 3\n",
    "fv = [rod_offset, rod_offset+1, rod_offset+2, last_var, last_var+1,last_var+2]\n",
    "fixed_vars = [i for i in range(rod_offset)] + fv"
   ]
  },
  {
   "cell_type": "code",
   "execution_count": null,
   "id": "6e824e8f-6140-4bc5-9134-97fa89429586",
   "metadata": {
    "collapsed": true,
    "jupyter": {
     "outputs_hidden": true
    },
    "tags": []
   },
   "outputs": [],
   "source": [
    "# Initialization: remove all compressed springs\n",
    "t_init1 = time.time()\n",
    "tencer = remove_compressed_springs(tencer,fixed_vars,opt)\n",
    "t_init2 = time.time()\n",
    "print(\"total time: \", t_init2 - t_init1)"
   ]
  },
  {
   "cell_type": "code",
   "execution_count": null,
   "id": "d9c02dba-22ad-4d14-8c88-26663f4df8e6",
   "metadata": {},
   "outputs": [],
   "source": [
    "# Visualization\n",
    "print(\"Number of springs: \",tencer.numRestVars())\n",
    "viewer_init = HybridViewer([tencer],wireframe=True)\n",
    "v_init = Viewer(rod, superView=viewer_init)\n",
    "viewer_init.show()"
   ]
  },
  {
   "cell_type": "code",
   "execution_count": null,
   "id": "3b66f541-5461-41f3-a322-2249a498236d",
   "metadata": {},
   "outputs": [],
   "source": [
    "# Save state for potential future use\n",
    "# save_state(tencer,\"data/helix_init.pkl\")"
   ]
  },
  {
   "cell_type": "markdown",
   "id": "49aa5e77-96c1-4cbf-9822-7e84c23e94a1",
   "metadata": {
    "tags": []
   },
   "source": [
    "# Greedy decimation: remove springs with lowest force"
   ]
  },
  {
   "cell_type": "code",
   "execution_count": null,
   "id": "60eb45b2-6e03-49d8-a8bb-826ddd360e3d",
   "metadata": {},
   "outputs": [],
   "source": [
    "# Load state if needed\n",
    "# tencer = load_state(\"data/helix_init.pkl\")"
   ]
  },
  {
   "cell_type": "code",
   "execution_count": null,
   "id": "2e11e76f-fc9e-4e40-964d-b65e816b1434",
   "metadata": {},
   "outputs": [],
   "source": [
    "# Optimizer options (equilibrium)\n",
    "opt = NewtonOptimizerOptions()\n",
    "opt.useNegativeCurvatureDirection = True\n",
    "opt.niter = 1000\n",
    "opt.hessianScaledBeta = False\n",
    "opt.verbose = 0\n",
    "\n",
    "# Fixed variables: rod endpoints and external frame\n",
    "rod_offset = out_rod.numDoF()\n",
    "last_var = rod_offset + rod.thetaOffset() - 3\n",
    "fv = [rod_offset, rod_offset+1, rod_offset+2, last_var, last_var+1,last_var+2]\n",
    "fixed_vars = [i for i in range(rod_offset)] + fv"
   ]
  },
  {
   "cell_type": "code",
   "execution_count": null,
   "id": "ede84776-2770-4b71-9738-85750693346a",
   "metadata": {
    "tags": []
   },
   "outputs": [],
   "source": [
    "t_greedy1 = time.time()\n",
    "\n",
    "# Set disance threshold\n",
    "distance_threshold = 1e-7\n",
    "\n",
    "# Here no alignment with the target rods is needed\n",
    "def alignment_function(tencer,rods):\n",
    "    return rods\n",
    "\n",
    "# Greedy decimation step\n",
    "tencer,aligned_rods = greedy_decimation_step(tencer,target_rods, alignment_function, opt, fixed_vars,distance_threshold=distance_threshold)\n",
    "\n",
    "t_greedy_2 = time.time()"
   ]
  },
  {
   "cell_type": "code",
   "execution_count": null,
   "id": "b3c0db5e-1ce0-4a98-a136-4997cb7caf25",
   "metadata": {},
   "outputs": [],
   "source": [
    "# Visualization\n",
    "viewer_greedy = HybridViewer([tencer],wireframe=True)\n",
    "v_greedy = Viewer(rod, superView=viewer_greedy)\n",
    "viewer_greedy.show()"
   ]
  },
  {
   "cell_type": "code",
   "execution_count": null,
   "id": "e19df3e1-6b39-4f00-9ea6-649f6a39fff0",
   "metadata": {},
   "outputs": [],
   "source": [
    "# Save state for potential future use\n",
    "# save_state(tencer, \"data/helix_greedy.pkl\")"
   ]
  },
  {
   "cell_type": "markdown",
   "id": "3ef364e5-2fa0-4310-a707-32f8a022a7a7",
   "metadata": {
    "tags": []
   },
   "source": [
    "# Replace cables with smaller rest length springs"
   ]
  },
  {
   "cell_type": "code",
   "execution_count": null,
   "id": "c8c7ba32-7573-40aa-9a55-7ade1ab2c98b",
   "metadata": {},
   "outputs": [],
   "source": [
    "# Load springs if needed\n",
    "# tencer = load_state(\"data/helix_greedy.pkl\")"
   ]
  },
  {
   "cell_type": "code",
   "execution_count": null,
   "id": "258cd2cc-4c9b-40ed-a417-9951a4705213",
   "metadata": {},
   "outputs": [],
   "source": [
    "# Optimizer options (equilibrium)\n",
    "opt = NewtonOptimizerOptions()\n",
    "opt.useNegativeCurvatureDirection = True\n",
    "opt.niter = 1000\n",
    "opt.hessianScaledBeta = False\n",
    "opt.verbose = 1\n",
    "\n",
    "# Fixed variables: rod endpoints and external frame\n",
    "rod_offset = out_rod.numDoF()\n",
    "last_var = rod_offset + rod.thetaOffset() - 3\n",
    "fv = [rod_offset, rod_offset+1, rod_offset+2, last_var, last_var+1,last_var+2]\n",
    "fixed_vars = [i for i in range(rod_offset)] + fv"
   ]
  },
  {
   "cell_type": "code",
   "execution_count": null,
   "id": "ec797ebf-45e0-41c1-8eeb-e64c20c5fa27",
   "metadata": {},
   "outputs": [],
   "source": [
    "# Get current springs' rest lengths\n",
    "rest_lengths = []\n",
    "for spring in tencer.getSprings():\n",
    "    rest_lengths.append(spring.get_rest_length())"
   ]
  },
  {
   "cell_type": "code",
   "execution_count": null,
   "id": "28e4670f-597b-40c6-81fa-414368f3de82",
   "metadata": {
    "tags": []
   },
   "outputs": [],
   "source": [
    "# Try reducing rest lengths while keeping the equilibrium stable\n",
    "t_replace_springs1 = time.time()\n",
    "for x in np.linspace(0,1,100):\n",
    "    new_springs = replace_springs_with_rest_length(tencer.getSprings(),np.array(rest_lengths)*x)\n",
    "    tencer1 = Tencer(tencer.getOpenRods(),tencer.getClosedRods(),new_springs,tencer.getAttachmentVertices(),tencer.getTargetRods())\n",
    "    lambdas, modes = compute_vibrational_modes.compute_vibrational_modes(tencer1, fixedVars=fixed_vars, mtype=compute_vibrational_modes.MassMatrixType.FULL, n=16, sigma=-1e-6)\n",
    "    #print(lambdas[0])\n",
    "    if lambdas[0]>-1e-10:\n",
    "        x_opti = x\n",
    "        print(x)\n",
    "        break \n",
    "t_replace_springs2 = time.time()\n",
    "print(\"Running time: \", t_replace_springs2 - t_replace_springs1)"
   ]
  },
  {
   "cell_type": "code",
   "execution_count": null,
   "id": "ff3898ac-918c-4da5-937c-80aa47c754bb",
   "metadata": {},
   "outputs": [],
   "source": [
    "new_springs = replace_springs_with_rest_length(tencer.getSprings(),np.array(rest_lengths)*x_opti)\n",
    "tencer = Tencer(tencer.getOpenRods(),tencer.getClosedRods(),new_springs,tencer.getAttachmentVertices(),tencer.getTargetRods())"
   ]
  },
  {
   "cell_type": "code",
   "execution_count": null,
   "id": "09d4a646-cf39-485b-b426-0c015da4c32e",
   "metadata": {},
   "outputs": [],
   "source": [
    "# Visualization\n",
    "viewer_rep = HybridViewer([tencer],wireframe=True)\n",
    "v_rep = Viewer(rod, superView=viewer_rep)\n",
    "viewer_rep.show()"
   ]
  },
  {
   "cell_type": "code",
   "execution_count": null,
   "id": "e40a08bb-6c5e-4b11-a321-d0fa72e2f0e4",
   "metadata": {},
   "outputs": [],
   "source": [
    "# Save state for potential future use\n",
    "# save_state(tencer, \"data/helix_rep.pkl\")"
   ]
  },
  {
   "cell_type": "markdown",
   "id": "2daf4dba-a334-47de-8b09-285b9c174fe3",
   "metadata": {
    "tags": []
   },
   "source": [
    "# Spring sparsification"
   ]
  },
  {
   "cell_type": "code",
   "execution_count": null,
   "id": "a3f574f6-6140-4e11-a922-26f1ec165031",
   "metadata": {},
   "outputs": [],
   "source": [
    "# Load state if needed\n",
    "# tencer = load_state(\"data/helix_rep.pkl\")"
   ]
  },
  {
   "cell_type": "code",
   "execution_count": null,
   "id": "fb0e377f-cc00-4cbc-bcf0-3eb948fbf24c",
   "metadata": {},
   "outputs": [],
   "source": [
    "# Optimizer options\n",
    "opt_opts = NewtonOptimizerOptions()\n",
    "opt_opts.useNegativeCurvatureDirection = True\n",
    "opt_opts.niter = 10000\n",
    "opt_opts.gradTol = 1e-6\n",
    "opt_opts.verbose = 0\n",
    "opt_opts.hessianScaledBeta = False\n",
    "\n",
    "# Fixed variables: rod endpoints and external frame\n",
    "rod_offset = out_rod.numDoF()\n",
    "last_var = rod_offset + rod.thetaOffset() - 3\n",
    "fv = [rod_offset, rod_offset+1, rod_offset+2, last_var, last_var+1,last_var+2]\n",
    "fixed_vars = [i for i in range(rod_offset)] + fv\n",
    "\n",
    "# This can be used to give a higher weight to some of the curve areas for target approximation\n",
    "# Here we use a uniform weight\n",
    "radii_array = [np.ones(out_rod.numVertices()),np.ones(rod.numVertices())]\n",
    "\n",
    "# Optimization algorithm\n",
    "algorithm = OptAlgorithm.NEWTON_CG\n",
    "\n",
    "# Callback function: no need to realign here, do nothing\n",
    "def newPt():\n",
    "    return"
   ]
  },
  {
   "cell_type": "code",
   "execution_count": null,
   "id": "dcdb95cc-f2d1-4985-ba70-3ed15bdcd295",
   "metadata": {},
   "outputs": [],
   "source": [
    "def num_inner_springs(knot:Tencer):\n",
    "    v = knot.getAttachmentVertices()\n",
    "    n = 0\n",
    "    for x in v:\n",
    "        if x.rodIdxA == x.rodIdxB:\n",
    "            n = n+1\n",
    "    return n"
   ]
  },
  {
   "cell_type": "code",
   "execution_count": null,
   "id": "b258fdd1-015c-42c7-b059-f321c00d7160",
   "metadata": {},
   "outputs": [],
   "source": [
    "# Sparsification weights - start with outer cables\n",
    "# Start with 0: optimize shape before sparsifying\n",
    "for outer_sparsification_weight in [0,1,10,1e2,1e3]:\n",
    "    \n",
    "    sparsification_weights = [0]*num_inner_springs(tencer) + [outer_sparsification_weight] * (tencer.numRestVars()-num_inner_springs(tencer))\n",
    "    \n",
    "    # Optimization object\n",
    "    tencer_opt = TencerOptimization(tencer=tencer,\n",
    "                                      Newton_optimizer_options=opt_opts,\n",
    "                                      fixed_vars=fixed_vars,\n",
    "                                      open_target_rod=target_rods,\n",
    "                                      closed_target_rod=[],\n",
    "                                      radii=radii_array,\n",
    "                                      sparsification_weights = sparsification_weights,\n",
    "                                      hessian_shift=1e-6)\n",
    "\n",
    "    # Run optimization\n",
    "    t_sparsification1 = time.time()\n",
    "    optimize(tencer_opt,algorithm,100,0.005, 1e-5,newPt)\n",
    "    t_sparsification2 = time.time()\n",
    "\n",
    "    # Remove springs with zero stiffness\n",
    "    tencer = remove_zero_springs(tencer)\n",
    "\n",
    "    print(\"Running time: \", t_sparsification2 - t_sparsification1)\n",
    "    print(\"Remaining springs: \", tencer.numRestVars())"
   ]
  },
  {
   "cell_type": "code",
   "execution_count": null,
   "id": "39f23a63-1bf6-4abf-9705-f7831ad2fcc9",
   "metadata": {},
   "outputs": [],
   "source": [
    "# Sparsification weights - continue with inner cables\n",
    "# Start with 0: optimize shape before sparsifying\n",
    "for inner_sparsification_weight in [0,1,10,1e2]:\n",
    "# for inner_sparsification_weight in [0,1,10,1e2,1e3]: # this allows to go down to 7 springs, at the cost of being further from the target\n",
    "    \n",
    "    sparsification_weights = [inner_sparsification_weight]*num_inner_springs(tencer) + [0] * (tencer.numRestVars()-num_inner_springs(tencer))\n",
    "    \n",
    "   # Optimization object\n",
    "    tencer_opt = TencerOptimization(tencer=tencer,\n",
    "                                      Newton_optimizer_options=opt_opts,\n",
    "                                      fixed_vars=fixed_vars,\n",
    "                                      open_target_rod=target_rods,\n",
    "                                      closed_target_rod=[],\n",
    "                                      radii=radii_array,\n",
    "                                      sparsification_weights = sparsification_weights,\n",
    "                                      hessian_shift=1e-6)\n",
    "\n",
    "    # Run optimization\n",
    "    t_sparsification1 = time.time()\n",
    "    optimize(tencer_opt,algorithm,100,0.005, 1e-5,newPt)\n",
    "    t_sparsification2 = time.time()\n",
    "\n",
    "    # Remove springs with zero stiffness\n",
    "    tencer = remove_zero_springs(tencer)\n",
    "\n",
    "    print(\"Running time: \", t_sparsification2 - t_sparsification1)\n",
    "    print(\"Remaining springs: \", tencer.numRestVars())"
   ]
  },
  {
   "cell_type": "code",
   "execution_count": null,
   "id": "2001c6e2-b45a-4074-908e-05ada46e5f58",
   "metadata": {},
   "outputs": [],
   "source": [
    "# Check no spring is compressed\n",
    "v = tencer.getRestVars()\n",
    "s = np.array(tencer.getSprings())\n",
    "tensionned_springs = []\n",
    "compressed_springs = []\n",
    "for i,spring in enumerate(s):\n",
    "    spring_length = np.linalg.norm(spring.get_coords()[:3] - spring.get_coords()[3:])\n",
    "    spring_rest_length = spring.get_rest_length()\n",
    "    if spring_length < spring_rest_length:\n",
    "        compressed_springs.append(i)\n",
    "    else: \n",
    "        tensionned_springs.append(i)\n",
    "compressed_springs"
   ]
  },
  {
   "cell_type": "code",
   "execution_count": null,
   "id": "6f415ad0-fb5d-4aa2-bc4e-049db2744bbb",
   "metadata": {
    "collapsed": true,
    "jupyter": {
     "outputs_hidden": true
    },
    "tags": []
   },
   "outputs": [],
   "source": [
    "tencer = remove_compressed_springs(tencer,fixed_vars,opt)"
   ]
  },
  {
   "cell_type": "code",
   "execution_count": null,
   "id": "0c1b0f10-b72e-4b46-8bb9-a1d1d5d7d407",
   "metadata": {},
   "outputs": [],
   "source": [
    "viewer_sp = HybridViewer([tencer],wireframe=True)\n",
    "v_sp1 = Viewer(rod, superView=viewer_sp)\n",
    "viewer_sp.show()"
   ]
  },
  {
   "cell_type": "code",
   "execution_count": null,
   "id": "1c1c4254-aa58-4a49-a8d8-503c664d15f8",
   "metadata": {},
   "outputs": [],
   "source": [
    "c = computeEquilibrium(tencer,fixed_vars,opt,hessianShift = 1e-8)"
   ]
  },
  {
   "cell_type": "code",
   "execution_count": null,
   "id": "b95323f8-f233-412f-b2ce-caa90083bfde",
   "metadata": {},
   "outputs": [],
   "source": [
    "# Save state for potential future use\n",
    "# save_state(tencer,\"data/helix_sparse.pkl\")"
   ]
  },
  {
   "cell_type": "markdown",
   "id": "0c8fbcd0-8e42-4262-8bb9-6fd0e70b5d64",
   "metadata": {
    "tags": []
   },
   "source": [
    "# Adding endpoints"
   ]
  },
  {
   "cell_type": "code",
   "execution_count": null,
   "id": "b45a093f-7355-47e5-8ac2-8421efaa2d13",
   "metadata": {},
   "outputs": [],
   "source": [
    "# Load state if needed\n",
    "# tencer = load_state(\"data/helix_sparse.pkl\")"
   ]
  },
  {
   "cell_type": "code",
   "execution_count": null,
   "id": "933d9843-0c5b-4464-99de-e7b106831c1b",
   "metadata": {},
   "outputs": [],
   "source": [
    "# Optimizer options (equilibrium)\n",
    "opt = NewtonOptimizerOptions()\n",
    "opt.useNegativeCurvatureDirection = True\n",
    "opt.niter = 1000\n",
    "opt.hessianScaledBeta = False\n",
    "opt.verbose = 1\n",
    "\n",
    "# Fixed variables: external frame - without the rod endpoints\n",
    "rod_offset = out_rod.numDoF()\n",
    "fixed_vars = [i for i in range(rod_offset)]"
   ]
  },
  {
   "cell_type": "code",
   "execution_count": null,
   "id": "ec9d5905-df61-46cc-ab97-b17a6388d6f7",
   "metadata": {},
   "outputs": [],
   "source": [
    "last_var = rod_offset + rod.thetaOffset() \n",
    "forces = -tencer.gradient(knotEnergyType = KnotEnergyType.Full, energyType = EnergyType.Full,vmask = VariableMask.Defo)\n",
    "elastic_forces = forces[rod_offset:last_var].reshape(-1, 3)"
   ]
  },
  {
   "cell_type": "code",
   "execution_count": null,
   "id": "1427cd92-182e-4568-b3f9-0ac85879f231",
   "metadata": {},
   "outputs": [],
   "source": [
    "point_positions = tencer.getOpenRods()[1].deformedPoints()\n",
    "springs = []\n",
    "attachment_vertices = []"
   ]
  },
  {
   "cell_type": "code",
   "execution_count": null,
   "id": "878a83ae-e8c4-43b5-a603-59d3063205ad",
   "metadata": {},
   "outputs": [],
   "source": [
    "def find_basis(force_vector, point_position, out_rod_points):\n",
    "    \n",
    "    vect = out_rod_points - point_position.reshape(1,3)\n",
    "    \n",
    "    comb = combinations(np.arange(len(out_rod_points)),3)\n",
    "    \n",
    "    for c in comb:\n",
    "        X = np.column_stack(vect[np.array(c)])\n",
    "        try:\n",
    "            X_1 = np.linalg.inv(X)\n",
    "        except:\n",
    "            print(\"could not invert matrix for combination: \", c)\n",
    "        res = X_1 @ force_vector\n",
    "        if np.all(res > 0):\n",
    "            return res, np.array(c)"
   ]
  },
  {
   "cell_type": "code",
   "execution_count": null,
   "id": "229ab86f-a18e-430b-82b5-d685ab7c10c4",
   "metadata": {
    "tags": []
   },
   "outputs": [],
   "source": [
    "from itertools import combinations\n",
    "for i in [0,n_divisions-1]:\n",
    "    coords, basis = find_basis(-elastic_forces[i],point_positions[i],out_rod_points)\n",
    "    print(basis)\n",
    "    springs.append(Spring(rod_points[i],out_rod_points[basis[0]],coords[0],0))\n",
    "    springs.append(Spring(rod_points[i],out_rod_points[basis[1]],coords[1],0))\n",
    "    springs.append(Spring(rod_points[i],out_rod_points[basis[2]],coords[2],0))\n",
    "    attachment_vertices.append(SpringAttachmentVertices(1,i,0,basis[0]))\n",
    "    attachment_vertices.append(SpringAttachmentVertices(1,i,0,basis[1]))\n",
    "    attachment_vertices.append(SpringAttachmentVertices(1,i,0,basis[2]))"
   ]
  },
  {
   "cell_type": "code",
   "execution_count": null,
   "id": "7cad5ab6-aa9b-4cd7-9ffb-d2ce9914edbf",
   "metadata": {
    "tags": []
   },
   "outputs": [],
   "source": [
    "final_springs = tencer.getSprings() + springs\n",
    "final_attachment_vertices = tencer.getAttachmentVertices() + attachment_vertices\n",
    "tencer = Tencer(tencer.getOpenRods(),[],final_springs,final_attachment_vertices,target_rods)"
   ]
  },
  {
   "cell_type": "code",
   "execution_count": null,
   "id": "ec3ef7fb-5593-4e27-b125-83313cefd0b0",
   "metadata": {},
   "outputs": [],
   "source": [
    "opt.verbose = 1\n",
    "c = computeEquilibrium(tencer,fixedVars=fixed_vars, opts=opt, hessianShift = 1e-8)"
   ]
  },
  {
   "cell_type": "code",
   "execution_count": null,
   "id": "3fb70437-f2bc-4dff-8085-74ebd7e6e500",
   "metadata": {},
   "outputs": [],
   "source": [
    "# Save state for potential future use\n",
    "# save_state(tencer,\"data/helix_endpoints.pkl\")"
   ]
  },
  {
   "cell_type": "markdown",
   "id": "77ac17bb-259d-439a-9a05-0a106d087dac",
   "metadata": {
    "tags": []
   },
   "source": [
    "# Optimize with sliding nodes"
   ]
  },
  {
   "cell_type": "code",
   "execution_count": null,
   "id": "2557fa49-1299-44ba-8a5b-ab5df28f3b1d",
   "metadata": {},
   "outputs": [],
   "source": [
    "# Load state if needed\n",
    "# tencer = load_state(\"data/helix_endpoints.pkl\")"
   ]
  },
  {
   "cell_type": "code",
   "execution_count": null,
   "id": "c85e0351-8d62-458a-9783-08d51a7eb794",
   "metadata": {},
   "outputs": [],
   "source": [
    "# Get current springs' rest lengths\n",
    "rest_lengths = []\n",
    "for spring in tencer.getSprings():\n",
    "    rest_lengths.append(spring.get_rest_length())\n",
    "    \n",
    "# Try reducing rest lengths while keeping the equilibrium stable\n",
    "t_replace_springs1 = time.time()\n",
    "for x in np.linspace(0,1,100):\n",
    "    new_springs = replace_springs_with_rest_length(tencer.getSprings(),np.array(rest_lengths)*x)\n",
    "    tencer1 = Tencer(tencer.getOpenRods(),tencer.getClosedRods(),new_springs,tencer.getAttachmentVertices(),tencer.getTargetRods())\n",
    "    lambdas, modes = compute_vibrational_modes.compute_vibrational_modes(tencer1, fixedVars=fixed_vars, mtype=compute_vibrational_modes.MassMatrixType.FULL, n=16, sigma=-1e-6)\n",
    "    #print(lambdas[0])\n",
    "    if lambdas[0]>-1e-10:\n",
    "        x_opti = x\n",
    "        print(x)\n",
    "        break \n",
    "t_replace_springs2 = time.time()\n",
    "print(\"Running time: \", t_replace_springs2 - t_replace_springs1)\n",
    "\n",
    "new_springs = replace_springs_with_rest_length(tencer.getSprings(),np.array(rest_lengths)*x_opti)\n",
    "tencer = Tencer(tencer.getOpenRods(),tencer.getClosedRods(),new_springs,tencer.getAttachmentVertices(),tencer.getTargetRods())"
   ]
  },
  {
   "cell_type": "code",
   "execution_count": null,
   "id": "e8615ff0-558e-4f6b-bfef-28fdafe424c3",
   "metadata": {},
   "outputs": [],
   "source": [
    "# Optimizer options\n",
    "opt_opts = NewtonOptimizerOptions()\n",
    "opt_opts.useNegativeCurvatureDirection = True\n",
    "opt_opts.niter = 10000\n",
    "opt_opts.gradTol = 1e-6\n",
    "opt_opts.verbose = 0\n",
    "opt_opts.hessianScaledBeta = False\n",
    "\n",
    "# Fixed variables: rod endpoints and external frame\n",
    "rod_offset = out_rod.numDoF()\n",
    "last_var = rod_offset + rod.thetaOffset() - 3\n",
    "fv = [rod_offset, rod_offset+1, rod_offset+2, last_var, last_var+1,last_var+2]\n",
    "fixed_vars = [i for i in range(rod_offset)] + fv\n",
    "\n",
    "# This can be used to give a higher weight to some of the curve areas for target approximation\n",
    "# Here we use a uniform weight\n",
    "radii_array = [np.ones(out_rod.numVertices()),np.ones(rod.numVertices())]\n",
    "\n",
    "# Optimization algorithm\n",
    "algorithm = OptAlgorithm.NEWTON_CG\n",
    "\n",
    "# Callback function: no need to realign here, do nothing\n",
    "def newPt():\n",
    "    return\n",
    "\n",
    "# Here we are optimizing over the springs' positions: the rest variables type must be set to StiffnessAndSpringAnchors\n",
    "tencer.setRestVarsType(RestVarsType.StiffnessAndSpringAnchors)"
   ]
  },
  {
   "cell_type": "code",
   "execution_count": null,
   "id": "7207cb1b-6c4e-4b8e-bcba-834d44d158e8",
   "metadata": {},
   "outputs": [],
   "source": [
    "# Optimization object\n",
    "tencer_opt = TencerOptimization(tencer=tencer,\n",
    "                                  Newton_optimizer_options=opt_opts,\n",
    "                                  fixed_vars=fixed_vars,\n",
    "                                  open_target_rod=target_rods,\n",
    "                                  closed_target_rod=[],\n",
    "                                  radii=radii_array,\n",
    "                                  hessian_shift=1e-6)\n",
    "\n",
    "\n",
    "\n",
    "# Run optimization\n",
    "t_sn1 = time.time()\n",
    "optimize(tencer_opt,algorithm,100,0.005, 1e-5,newPt)\n",
    "t_sn2 = time.time()\n",
    "\n",
    "\n",
    "print(\"Running time: \", t_sn2 - t_sn1)"
   ]
  },
  {
   "cell_type": "code",
   "execution_count": null,
   "id": "f05b0102-3438-4cfa-89e6-28dda2d6b692",
   "metadata": {},
   "outputs": [],
   "source": [
    "viewer_sn = HybridViewer([tencer],wireframe=True)\n",
    "v_sn1 = Viewer(rod, superView=viewer_sn)\n",
    "viewer_sn.show()"
   ]
  },
  {
   "cell_type": "code",
   "execution_count": null,
   "id": "8525068f-86d0-47d2-b7a1-0c831fbf71f2",
   "metadata": {},
   "outputs": [],
   "source": [
    "# Save result to obj\n",
    "output_dir = \"output\"\n",
    "os.makedirs(output_dir, exist_ok=True)\n",
    "export_knot_to_obj(f\"{output_dir}/helix_knitro\", tencer)"
   ]
  },
  {
   "cell_type": "code",
   "execution_count": null,
   "id": "692fd281-f64e-45d2-9c51-bfef33167189",
   "metadata": {},
   "outputs": [],
   "source": []
  }
 ],
 "metadata": {
  "kernelspec": {
   "display_name": "Python 3",
   "language": "python",
   "name": "python3"
  },
  "language_info": {
   "codemirror_mode": {
    "name": "ipython",
    "version": 3
   },
   "file_extension": ".py",
   "mimetype": "text/x-python",
   "name": "python",
   "nbconvert_exporter": "python",
   "pygments_lexer": "ipython3",
   "version": "3.10.4"
  }
 },
 "nbformat": 4,
 "nbformat_minor": 5
}
